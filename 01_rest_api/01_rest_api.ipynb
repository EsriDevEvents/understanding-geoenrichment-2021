{
 "cells": [
  {
   "cell_type": "markdown",
   "metadata": {},
   "source": [
    "## Getting Started"
   ]
  },
  {
   "cell_type": "code",
   "execution_count": 1,
   "metadata": {},
   "outputs": [],
   "source": [
    "import requests\n",
    "import json\n",
    "import pandas as pd"
   ]
  },
  {
   "cell_type": "code",
   "execution_count": 2,
   "metadata": {},
   "outputs": [],
   "source": [
    "api_key=\"YOUR-API-KEY\""
   ]
  },
  {
   "cell_type": "markdown",
   "metadata": {},
   "source": [
    "## Analysis Areas"
   ]
  },
  {
   "cell_type": "code",
   "execution_count": 3,
   "metadata": {
    "scrolled": false
   },
   "outputs": [
    {
     "data": {
      "text/plain": [
       "11"
      ]
     },
     "execution_count": 3,
     "metadata": {},
     "output_type": "execute_result"
    }
   ],
   "source": [
    "df = pd.read_csv(\"data/mcdonalds_san_francisco.csv\")\n",
    "df.shape[0]"
   ]
  },
  {
   "cell_type": "code",
   "execution_count": 4,
   "metadata": {},
   "outputs": [
    {
     "data": {
      "text/html": [
       "<div>\n",
       "<style scoped>\n",
       "    .dataframe tbody tr th:only-of-type {\n",
       "        vertical-align: middle;\n",
       "    }\n",
       "\n",
       "    .dataframe tbody tr th {\n",
       "        vertical-align: top;\n",
       "    }\n",
       "\n",
       "    .dataframe thead th {\n",
       "        text-align: right;\n",
       "    }\n",
       "</style>\n",
       "<table border=\"1\" class=\"dataframe\">\n",
       "  <thead>\n",
       "    <tr style=\"text-align: right;\">\n",
       "      <th></th>\n",
       "      <th>Business Name</th>\n",
       "      <th>Address</th>\n",
       "      <th>City</th>\n",
       "      <th>State</th>\n",
       "      <th>ZIP</th>\n",
       "    </tr>\n",
       "  </thead>\n",
       "  <tbody>\n",
       "    <tr>\n",
       "      <th>0</th>\n",
       "      <td>McDonald's</td>\n",
       "      <td>145 Jefferson St</td>\n",
       "      <td>San Francisco</td>\n",
       "      <td>CA</td>\n",
       "      <td>94133</td>\n",
       "    </tr>\n",
       "    <tr>\n",
       "      <th>1</th>\n",
       "      <td>McDonald's</td>\n",
       "      <td>345 Bay Shore Blvd</td>\n",
       "      <td>San Francisco</td>\n",
       "      <td>CA</td>\n",
       "      <td>94124</td>\n",
       "    </tr>\n",
       "    <tr>\n",
       "      <th>2</th>\n",
       "      <td>McDonald's</td>\n",
       "      <td>1100 Fillmore St</td>\n",
       "      <td>San Francisco</td>\n",
       "      <td>CA</td>\n",
       "      <td>94115</td>\n",
       "    </tr>\n",
       "    <tr>\n",
       "      <th>3</th>\n",
       "      <td>McDonald's</td>\n",
       "      <td>5411 3rd St</td>\n",
       "      <td>San Francisco</td>\n",
       "      <td>CA</td>\n",
       "      <td>94124</td>\n",
       "    </tr>\n",
       "    <tr>\n",
       "      <th>4</th>\n",
       "      <td>McDonald's</td>\n",
       "      <td>2801 Mission St</td>\n",
       "      <td>San Francisco</td>\n",
       "      <td>CA</td>\n",
       "      <td>94110</td>\n",
       "    </tr>\n",
       "  </tbody>\n",
       "</table>\n",
       "</div>"
      ],
      "text/plain": [
       "  Business Name             Address           City State    ZIP\n",
       "0    McDonald's    145 Jefferson St  San Francisco    CA  94133\n",
       "1    McDonald's  345 Bay Shore Blvd  San Francisco    CA  94124\n",
       "2    McDonald's    1100 Fillmore St  San Francisco    CA  94115\n",
       "3    McDonald's         5411 3rd St  San Francisco    CA  94124\n",
       "4    McDonald's     2801 Mission St  San Francisco    CA  94110"
      ]
     },
     "execution_count": 4,
     "metadata": {},
     "output_type": "execute_result"
    }
   ],
   "source": [
    "df.head()"
   ]
  },
  {
   "cell_type": "markdown",
   "metadata": {},
   "source": [
    "## Basics"
   ]
  },
  {
   "cell_type": "code",
   "execution_count": 5,
   "metadata": {},
   "outputs": [],
   "source": [
    "ge_url = 'https://geoenrich.arcgis.com/arcgis/rest/services/World/geoenrichmentserver/Geoenrichment/Enrich'"
   ]
  },
  {
   "cell_type": "code",
   "execution_count": 6,
   "metadata": {
    "scrolled": false
   },
   "outputs": [
    {
     "data": {
      "text/plain": [
       "[{'address': {'Business Name': \"McDonald's\",\n",
       "   'Address': '145 Jefferson St',\n",
       "   'City': 'San Francisco',\n",
       "   'State': 'CA',\n",
       "   'ZIP': 94133},\n",
       "  'attributes': {'address': '145 Jefferson St'}},\n",
       " {'address': {'Business Name': \"McDonald's\",\n",
       "   'Address': '345 Bay Shore Blvd',\n",
       "   'City': 'San Francisco',\n",
       "   'State': 'CA',\n",
       "   'ZIP': 94124},\n",
       "  'attributes': {'address': '345 Bay Shore Blvd'}}]"
      ]
     },
     "execution_count": 6,
     "metadata": {},
     "output_type": "execute_result"
    }
   ],
   "source": [
    "mac_study_areas = [{\"address\":x, \"attributes\":{\"address\":x[\"Address\"]}} for x in df.to_dict('records')]\n",
    "mac_study_areas[:2]"
   ]
  },
  {
   "cell_type": "code",
   "execution_count": 7,
   "metadata": {},
   "outputs": [],
   "source": [
    "enrichment_params = {\n",
    "    'studyareas':str(mac_study_areas),\n",
    "    'analysisvariables':str([\"Wealth.AVGIA15_CY\",\"Wealth.AVGIA25_CY\"]),\n",
    "    'returngeometry':'true', # to display areas\n",
    "    'f':'json',\n",
    "    'token':api_key\n",
    "}"
   ]
  },
  {
   "cell_type": "code",
   "execution_count": 8,
   "metadata": {},
   "outputs": [],
   "source": [
    "response = requests.post(ge_url, data=enrichment_params)"
   ]
  },
  {
   "cell_type": "code",
   "execution_count": 9,
   "metadata": {},
   "outputs": [
    {
     "data": {
      "text/html": [
       "<div>\n",
       "<style scoped>\n",
       "    .dataframe tbody tr th:only-of-type {\n",
       "        vertical-align: middle;\n",
       "    }\n",
       "\n",
       "    .dataframe tbody tr th {\n",
       "        vertical-align: top;\n",
       "    }\n",
       "\n",
       "    .dataframe thead th {\n",
       "        text-align: right;\n",
       "    }\n",
       "</style>\n",
       "<table border=\"1\" class=\"dataframe\">\n",
       "  <thead>\n",
       "    <tr style=\"text-align: right;\">\n",
       "      <th></th>\n",
       "      <th>ID</th>\n",
       "      <th>OBJECTID</th>\n",
       "      <th>sourceCountry</th>\n",
       "      <th>address</th>\n",
       "      <th>X</th>\n",
       "      <th>Y</th>\n",
       "      <th>areaType</th>\n",
       "      <th>bufferUnits</th>\n",
       "      <th>bufferUnitsAlias</th>\n",
       "      <th>bufferRadii</th>\n",
       "      <th>aggregationMethod</th>\n",
       "      <th>populationToPolygonSizeRating</th>\n",
       "      <th>apportionmentConfidence</th>\n",
       "      <th>HasData</th>\n",
       "      <th>AVGIA15_CY</th>\n",
       "      <th>AVGIA25_CY</th>\n",
       "    </tr>\n",
       "  </thead>\n",
       "  <tbody>\n",
       "    <tr>\n",
       "      <th>0</th>\n",
       "      <td>0</td>\n",
       "      <td>1</td>\n",
       "      <td>US</td>\n",
       "      <td>145 Jefferson St</td>\n",
       "      <td>-122.414643</td>\n",
       "      <td>37.808061</td>\n",
       "      <td>RingBuffer</td>\n",
       "      <td>esriMiles</td>\n",
       "      <td>Miles</td>\n",
       "      <td>1</td>\n",
       "      <td>BlockApportionment:US.BlockGroups</td>\n",
       "      <td>2.191</td>\n",
       "      <td>2.576</td>\n",
       "      <td>1</td>\n",
       "      <td>112682</td>\n",
       "      <td>171262</td>\n",
       "    </tr>\n",
       "    <tr>\n",
       "      <th>1</th>\n",
       "      <td>1</td>\n",
       "      <td>2</td>\n",
       "      <td>US</td>\n",
       "      <td>345 Bay Shore Blvd</td>\n",
       "      <td>-122.405194</td>\n",
       "      <td>37.742088</td>\n",
       "      <td>RingBuffer</td>\n",
       "      <td>esriMiles</td>\n",
       "      <td>Miles</td>\n",
       "      <td>1</td>\n",
       "      <td>BlockApportionment:US.BlockGroups</td>\n",
       "      <td>2.191</td>\n",
       "      <td>2.576</td>\n",
       "      <td>1</td>\n",
       "      <td>104163</td>\n",
       "      <td>155220</td>\n",
       "    </tr>\n",
       "    <tr>\n",
       "      <th>2</th>\n",
       "      <td>2</td>\n",
       "      <td>3</td>\n",
       "      <td>US</td>\n",
       "      <td>1100 Fillmore St</td>\n",
       "      <td>-122.431662</td>\n",
       "      <td>37.779881</td>\n",
       "      <td>RingBuffer</td>\n",
       "      <td>esriMiles</td>\n",
       "      <td>Miles</td>\n",
       "      <td>1</td>\n",
       "      <td>BlockApportionment:US.BlockGroups</td>\n",
       "      <td>2.191</td>\n",
       "      <td>2.576</td>\n",
       "      <td>1</td>\n",
       "      <td>94806</td>\n",
       "      <td>152561</td>\n",
       "    </tr>\n",
       "    <tr>\n",
       "      <th>3</th>\n",
       "      <td>3</td>\n",
       "      <td>4</td>\n",
       "      <td>US</td>\n",
       "      <td>5411 3rd St</td>\n",
       "      <td>-122.392711</td>\n",
       "      <td>37.728051</td>\n",
       "      <td>RingBuffer</td>\n",
       "      <td>esriMiles</td>\n",
       "      <td>Miles</td>\n",
       "      <td>1</td>\n",
       "      <td>BlockApportionment:US.BlockGroups</td>\n",
       "      <td>2.191</td>\n",
       "      <td>2.576</td>\n",
       "      <td>1</td>\n",
       "      <td>61191</td>\n",
       "      <td>107889</td>\n",
       "    </tr>\n",
       "    <tr>\n",
       "      <th>4</th>\n",
       "      <td>4</td>\n",
       "      <td>5</td>\n",
       "      <td>US</td>\n",
       "      <td>2801 Mission St</td>\n",
       "      <td>-122.418426</td>\n",
       "      <td>37.752209</td>\n",
       "      <td>RingBuffer</td>\n",
       "      <td>esriMiles</td>\n",
       "      <td>Miles</td>\n",
       "      <td>1</td>\n",
       "      <td>BlockApportionment:US.BlockGroups</td>\n",
       "      <td>2.191</td>\n",
       "      <td>2.576</td>\n",
       "      <td>1</td>\n",
       "      <td>126032</td>\n",
       "      <td>178289</td>\n",
       "    </tr>\n",
       "  </tbody>\n",
       "</table>\n",
       "</div>"
      ],
      "text/plain": [
       "  ID  OBJECTID sourceCountry             address           X          Y  \\\n",
       "0  0         1            US    145 Jefferson St -122.414643  37.808061   \n",
       "1  1         2            US  345 Bay Shore Blvd -122.405194  37.742088   \n",
       "2  2         3            US    1100 Fillmore St -122.431662  37.779881   \n",
       "3  3         4            US         5411 3rd St -122.392711  37.728051   \n",
       "4  4         5            US     2801 Mission St -122.418426  37.752209   \n",
       "\n",
       "     areaType bufferUnits bufferUnitsAlias  bufferRadii  \\\n",
       "0  RingBuffer   esriMiles            Miles            1   \n",
       "1  RingBuffer   esriMiles            Miles            1   \n",
       "2  RingBuffer   esriMiles            Miles            1   \n",
       "3  RingBuffer   esriMiles            Miles            1   \n",
       "4  RingBuffer   esriMiles            Miles            1   \n",
       "\n",
       "                   aggregationMethod  populationToPolygonSizeRating  \\\n",
       "0  BlockApportionment:US.BlockGroups                          2.191   \n",
       "1  BlockApportionment:US.BlockGroups                          2.191   \n",
       "2  BlockApportionment:US.BlockGroups                          2.191   \n",
       "3  BlockApportionment:US.BlockGroups                          2.191   \n",
       "4  BlockApportionment:US.BlockGroups                          2.191   \n",
       "\n",
       "   apportionmentConfidence  HasData  AVGIA15_CY  AVGIA25_CY  \n",
       "0                    2.576        1      112682      171262  \n",
       "1                    2.576        1      104163      155220  \n",
       "2                    2.576        1       94806      152561  \n",
       "3                    2.576        1       61191      107889  \n",
       "4                    2.576        1      126032      178289  "
      ]
     },
     "execution_count": 9,
     "metadata": {},
     "output_type": "execute_result"
    }
   ],
   "source": [
    "fs_json = json.loads(response.text)[\"results\"][0][\"value\"][\"FeatureSet\"][0]\n",
    "\n",
    "enriched_df = pd.DataFrame(f[\"attributes\"] for f in fs_json[\"features\"])\n",
    "enriched_df.head()"
   ]
  },
  {
   "cell_type": "code",
   "execution_count": 10,
   "metadata": {},
   "outputs": [
    {
     "data": {
      "image/png": "[encoded data removed]",
      "text/plain": [
       "<Figure size 864x288 with 1 Axes>"
      ]
     },
     "metadata": {
      "needs_background": "light"
     },
     "output_type": "display_data"
    }
   ],
   "source": [
    "plot = enriched_df[[\"address\",\"AVGIA15_CY\",\"AVGIA25_CY\",]].plot.barh(x='address', stacked=True, figsize=(12, 4))\n"
   ]
  },
  {
   "cell_type": "markdown",
   "metadata": {},
   "source": [
    "## Map Results"
   ]
  },
  {
   "cell_type": "code",
   "execution_count": 11,
   "metadata": {},
   "outputs": [],
   "source": [
    "from arcgis.gis import GIS\n",
    "from arcgis.features import FeatureSet\n",
    "\n",
    "gis = GIS(apiKey=api_key)"
   ]
  },
  {
   "cell_type": "code",
   "execution_count": 12,
   "metadata": {},
   "outputs": [
    {
     "data": {
      "application/vnd.jupyter.widget-view+json": {
       "model_id": "fe218438a16e4b808a11f3fd7fb60c8e",
       "version_major": 2,
       "version_minor": 0
      },
      "text/plain": [
       "MapView(layout=Layout(height='400px', width='100%'))"
      ]
     },
     "metadata": {},
     "output_type": "display_data"
    },
    {
     "data": {
      "text/html": [
       "<div class=\"map-static-img-preview-1b6a59b5-310d-4112-a990-958293dc479d\"><img src=\"\"></img></div>"
      ],
      "text/plain": [
       "<IPython.core.display.HTML object>"
      ]
     },
     "metadata": {},
     "output_type": "display_data"
    },
    {
     "data": {
      "text/html": [
       "<div class=\"map-html-embed-preview-1b6a59b5-310d-4112-a990-958293dc479d\"></div>"
      ],
      "text/plain": [
       "<IPython.core.display.HTML object>"
      ]
     },
     "metadata": {},
     "output_type": "display_data"
    }
   ],
   "source": [
    "sf_map = gis.map('San Francisco', zoomlevel=12)\n",
    "sf_map.basemap = 'openstreetmap'\n",
    "sf_map"
   ]
  },
  {
   "cell_type": "code",
   "execution_count": 13,
   "metadata": {
    "scrolled": true
   },
   "outputs": [
    {
     "data": {
      "text/html": [
       "<div>\n",
       "<style scoped>\n",
       "    .dataframe tbody tr th:only-of-type {\n",
       "        vertical-align: middle;\n",
       "    }\n",
       "\n",
       "    .dataframe tbody tr th {\n",
       "        vertical-align: top;\n",
       "    }\n",
       "\n",
       "    .dataframe thead th {\n",
       "        text-align: right;\n",
       "    }\n",
       "</style>\n",
       "<table border=\"1\" class=\"dataframe\">\n",
       "  <thead>\n",
       "    <tr style=\"text-align: right;\">\n",
       "      <th></th>\n",
       "      <th>ID</th>\n",
       "      <th>OBJECTID</th>\n",
       "      <th>sourceCountry</th>\n",
       "      <th>address</th>\n",
       "      <th>X</th>\n",
       "      <th>Y</th>\n",
       "      <th>areaType</th>\n",
       "      <th>bufferUnits</th>\n",
       "      <th>bufferUnitsAlias</th>\n",
       "      <th>bufferRadii</th>\n",
       "      <th>aggregationMethod</th>\n",
       "      <th>populationToPolygonSizeRating</th>\n",
       "      <th>apportionmentConfidence</th>\n",
       "      <th>HasData</th>\n",
       "      <th>AVGIA15_CY</th>\n",
       "      <th>AVGIA25_CY</th>\n",
       "      <th>SHAPE</th>\n",
       "    </tr>\n",
       "  </thead>\n",
       "  <tbody>\n",
       "    <tr>\n",
       "      <th>0</th>\n",
       "      <td>0</td>\n",
       "      <td>1</td>\n",
       "      <td>US</td>\n",
       "      <td>145 Jefferson St</td>\n",
       "      <td>-122.414643</td>\n",
       "      <td>37.808061</td>\n",
       "      <td>RingBuffer</td>\n",
       "      <td>esriMiles</td>\n",
       "      <td>Miles</td>\n",
       "      <td>1</td>\n",
       "      <td>BlockApportionment:US.BlockGroups</td>\n",
       "      <td>2.191</td>\n",
       "      <td>2.576</td>\n",
       "      <td>1</td>\n",
       "      <td>112682</td>\n",
       "      <td>171262</td>\n",
       "      <td>{\"rings\": [[[-122.4146430205622, 37.8225605528...</td>\n",
       "    </tr>\n",
       "    <tr>\n",
       "      <th>1</th>\n",
       "      <td>1</td>\n",
       "      <td>2</td>\n",
       "      <td>US</td>\n",
       "      <td>345 Bay Shore Blvd</td>\n",
       "      <td>-122.405194</td>\n",
       "      <td>37.742088</td>\n",
       "      <td>RingBuffer</td>\n",
       "      <td>esriMiles</td>\n",
       "      <td>Miles</td>\n",
       "      <td>1</td>\n",
       "      <td>BlockApportionment:US.BlockGroups</td>\n",
       "      <td>2.191</td>\n",
       "      <td>2.576</td>\n",
       "      <td>1</td>\n",
       "      <td>104163</td>\n",
       "      <td>155220</td>\n",
       "      <td>{\"rings\": [[[-122.40519401729348, 37.756587719...</td>\n",
       "    </tr>\n",
       "  </tbody>\n",
       "</table>\n",
       "</div>"
      ],
      "text/plain": [
       "  ID  OBJECTID sourceCountry             address           X          Y  \\\n",
       "0  0         1            US    145 Jefferson St -122.414643  37.808061   \n",
       "1  1         2            US  345 Bay Shore Blvd -122.405194  37.742088   \n",
       "\n",
       "     areaType bufferUnits bufferUnitsAlias  bufferRadii  \\\n",
       "0  RingBuffer   esriMiles            Miles            1   \n",
       "1  RingBuffer   esriMiles            Miles            1   \n",
       "\n",
       "                   aggregationMethod  populationToPolygonSizeRating  \\\n",
       "0  BlockApportionment:US.BlockGroups                          2.191   \n",
       "1  BlockApportionment:US.BlockGroups                          2.191   \n",
       "\n",
       "   apportionmentConfidence  HasData  AVGIA15_CY  AVGIA25_CY  \\\n",
       "0                    2.576        1      112682      171262   \n",
       "1                    2.576        1      104163      155220   \n",
       "\n",
       "                                               SHAPE  \n",
       "0  {\"rings\": [[[-122.4146430205622, 37.8225605528...  \n",
       "1  {\"rings\": [[[-122.40519401729348, 37.756587719...  "
      ]
     },
     "execution_count": 13,
     "metadata": {},
     "output_type": "execute_result"
    }
   ],
   "source": [
    "enriched_df = FeatureSet.from_dict(fs_json).sdf\n",
    "enriched_df.head(n=2)"
   ]
  },
  {
   "cell_type": "code",
   "execution_count": 14,
   "metadata": {},
   "outputs": [
    {
     "data": {
      "text/html": [
       "<div>\n",
       "<style scoped>\n",
       "    .dataframe tbody tr th:only-of-type {\n",
       "        vertical-align: middle;\n",
       "    }\n",
       "\n",
       "    .dataframe tbody tr th {\n",
       "        vertical-align: top;\n",
       "    }\n",
       "\n",
       "    .dataframe thead th {\n",
       "        text-align: right;\n",
       "    }\n",
       "</style>\n",
       "<table border=\"1\" class=\"dataframe\">\n",
       "  <thead>\n",
       "    <tr style=\"text-align: right;\">\n",
       "      <th></th>\n",
       "      <th>ID</th>\n",
       "      <th>OBJECTID</th>\n",
       "      <th>sourceCountry</th>\n",
       "      <th>address</th>\n",
       "      <th>X</th>\n",
       "      <th>Y</th>\n",
       "      <th>areaType</th>\n",
       "      <th>bufferUnits</th>\n",
       "      <th>bufferUnitsAlias</th>\n",
       "      <th>bufferRadii</th>\n",
       "      <th>aggregationMethod</th>\n",
       "      <th>populationToPolygonSizeRating</th>\n",
       "      <th>apportionmentConfidence</th>\n",
       "      <th>HasData</th>\n",
       "      <th>AVGIA15_CY</th>\n",
       "      <th>AVGIA25_CY</th>\n",
       "      <th>SHAPE</th>\n",
       "      <th>INCOME15_34</th>\n",
       "    </tr>\n",
       "  </thead>\n",
       "  <tbody>\n",
       "    <tr>\n",
       "      <th>0</th>\n",
       "      <td>0</td>\n",
       "      <td>1</td>\n",
       "      <td>US</td>\n",
       "      <td>145 Jefferson St</td>\n",
       "      <td>-122.414643</td>\n",
       "      <td>37.808061</td>\n",
       "      <td>RingBuffer</td>\n",
       "      <td>esriMiles</td>\n",
       "      <td>Miles</td>\n",
       "      <td>1</td>\n",
       "      <td>BlockApportionment:US.BlockGroups</td>\n",
       "      <td>2.191</td>\n",
       "      <td>2.576</td>\n",
       "      <td>1</td>\n",
       "      <td>112682</td>\n",
       "      <td>171262</td>\n",
       "      <td>{\"rings\": [[[-122.4146430205622, 37.8225605528...</td>\n",
       "      <td>283944</td>\n",
       "    </tr>\n",
       "    <tr>\n",
       "      <th>1</th>\n",
       "      <td>1</td>\n",
       "      <td>2</td>\n",
       "      <td>US</td>\n",
       "      <td>345 Bay Shore Blvd</td>\n",
       "      <td>-122.405194</td>\n",
       "      <td>37.742088</td>\n",
       "      <td>RingBuffer</td>\n",
       "      <td>esriMiles</td>\n",
       "      <td>Miles</td>\n",
       "      <td>1</td>\n",
       "      <td>BlockApportionment:US.BlockGroups</td>\n",
       "      <td>2.191</td>\n",
       "      <td>2.576</td>\n",
       "      <td>1</td>\n",
       "      <td>104163</td>\n",
       "      <td>155220</td>\n",
       "      <td>{\"rings\": [[[-122.40519401729348, 37.756587719...</td>\n",
       "      <td>259383</td>\n",
       "    </tr>\n",
       "  </tbody>\n",
       "</table>\n",
       "</div>"
      ],
      "text/plain": [
       "  ID  OBJECTID sourceCountry             address           X          Y  \\\n",
       "0  0         1            US    145 Jefferson St -122.414643  37.808061   \n",
       "1  1         2            US  345 Bay Shore Blvd -122.405194  37.742088   \n",
       "\n",
       "     areaType bufferUnits bufferUnitsAlias  bufferRadii  \\\n",
       "0  RingBuffer   esriMiles            Miles            1   \n",
       "1  RingBuffer   esriMiles            Miles            1   \n",
       "\n",
       "                   aggregationMethod  populationToPolygonSizeRating  \\\n",
       "0  BlockApportionment:US.BlockGroups                          2.191   \n",
       "1  BlockApportionment:US.BlockGroups                          2.191   \n",
       "\n",
       "   apportionmentConfidence  HasData  AVGIA15_CY  AVGIA25_CY  \\\n",
       "0                    2.576        1      112682      171262   \n",
       "1                    2.576        1      104163      155220   \n",
       "\n",
       "                                               SHAPE  INCOME15_34  \n",
       "0  {\"rings\": [[[-122.4146430205622, 37.8225605528...       283944  \n",
       "1  {\"rings\": [[[-122.40519401729348, 37.756587719...       259383  "
      ]
     },
     "execution_count": 14,
     "metadata": {},
     "output_type": "execute_result"
    }
   ],
   "source": [
    "enriched_df[\"INCOME15_34\"] = enriched_df[\"AVGIA15_CY\"] + enriched_df[\"AVGIA25_CY\"]\n",
    "enriched_df.head(n=2)"
   ]
  },
  {
   "cell_type": "code",
   "execution_count": 15,
   "metadata": {},
   "outputs": [],
   "source": [
    "fs = FeatureSet.from_dataframe(enriched_df)\n",
    "\n",
    "\n",
    "sf_map.draw(fs)\n",
    "sf_map.add_layer(fs, {'renderer':'ClassedSizeRenderer','field_name':'INCOME15_34'})"
   ]
  },
  {
   "cell_type": "markdown",
   "metadata": {},
   "source": [
    "## Walking distance"
   ]
  },
  {
   "cell_type": "code",
   "execution_count": 16,
   "metadata": {},
   "outputs": [],
   "source": [
    "enrichment_params = {\n",
    "    'studyareas':str(mac_study_areas),\n",
    "    'studyareasoptions':str({\"areaType\": \"NetworkServiceArea\", \"travel_mode\": \"Walking\", \"bufferRadii\": [15], \"bufferUnits\": \"Minutes\"}),\n",
    "    'analysisvariables':str([\"Wealth.AVGIA25_CY\",\"Wealth.AVGIA15_CY\"]),\n",
    "    'f':'json',\n",
    "    'returngeometry':'true',\n",
    "    'token':api_key\n",
    "}"
   ]
  },
  {
   "cell_type": "code",
   "execution_count": 17,
   "metadata": {},
   "outputs": [],
   "source": [
    "response = requests.post(ge_url, data=enrichment_params)"
   ]
  },
  {
   "cell_type": "code",
   "execution_count": 18,
   "metadata": {},
   "outputs": [
    {
     "data": {
      "text/html": [
       "<div>\n",
       "<style scoped>\n",
       "    .dataframe tbody tr th:only-of-type {\n",
       "        vertical-align: middle;\n",
       "    }\n",
       "\n",
       "    .dataframe tbody tr th {\n",
       "        vertical-align: top;\n",
       "    }\n",
       "\n",
       "    .dataframe thead th {\n",
       "        text-align: right;\n",
       "    }\n",
       "</style>\n",
       "<table border=\"1\" class=\"dataframe\">\n",
       "  <thead>\n",
       "    <tr style=\"text-align: right;\">\n",
       "      <th></th>\n",
       "      <th>ID</th>\n",
       "      <th>OBJECTID</th>\n",
       "      <th>sourceCountry</th>\n",
       "      <th>address</th>\n",
       "      <th>X</th>\n",
       "      <th>Y</th>\n",
       "      <th>areaType</th>\n",
       "      <th>bufferUnits</th>\n",
       "      <th>bufferUnitsAlias</th>\n",
       "      <th>bufferRadii</th>\n",
       "      <th>aggregationMethod</th>\n",
       "      <th>populationToPolygonSizeRating</th>\n",
       "      <th>apportionmentConfidence</th>\n",
       "      <th>HasData</th>\n",
       "      <th>AVGIA15_CY</th>\n",
       "      <th>AVGIA25_CY</th>\n",
       "      <th>SHAPE</th>\n",
       "    </tr>\n",
       "  </thead>\n",
       "  <tbody>\n",
       "    <tr>\n",
       "      <th>0</th>\n",
       "      <td>0</td>\n",
       "      <td>1</td>\n",
       "      <td>US</td>\n",
       "      <td>145 Jefferson St</td>\n",
       "      <td>-122.414643</td>\n",
       "      <td>37.808061</td>\n",
       "      <td>NetworkServiceArea</td>\n",
       "      <td>Minutes</td>\n",
       "      <td>Walk Time Minutes</td>\n",
       "      <td>15</td>\n",
       "      <td>BlockApportionment:US.BlockGroups</td>\n",
       "      <td>2.191</td>\n",
       "      <td>2.576</td>\n",
       "      <td>1</td>\n",
       "      <td>99991</td>\n",
       "      <td>158752</td>\n",
       "      <td>{\"rings\": [[[-122.41218985995754, 37.817749084...</td>\n",
       "    </tr>\n",
       "    <tr>\n",
       "      <th>1</th>\n",
       "      <td>1</td>\n",
       "      <td>2</td>\n",
       "      <td>US</td>\n",
       "      <td>345 Bay Shore Blvd</td>\n",
       "      <td>-122.405194</td>\n",
       "      <td>37.742088</td>\n",
       "      <td>NetworkServiceArea</td>\n",
       "      <td>Minutes</td>\n",
       "      <td>Walk Time Minutes</td>\n",
       "      <td>15</td>\n",
       "      <td>BlockApportionment:US.BlockGroups</td>\n",
       "      <td>2.191</td>\n",
       "      <td>2.576</td>\n",
       "      <td>1</td>\n",
       "      <td>94653</td>\n",
       "      <td>169352</td>\n",
       "      <td>{\"rings\": [[[-122.402308436748, 37.75284610091...</td>\n",
       "    </tr>\n",
       "  </tbody>\n",
       "</table>\n",
       "</div>"
      ],
      "text/plain": [
       "  ID  OBJECTID sourceCountry             address           X          Y  \\\n",
       "0  0         1            US    145 Jefferson St -122.414643  37.808061   \n",
       "1  1         2            US  345 Bay Shore Blvd -122.405194  37.742088   \n",
       "\n",
       "             areaType bufferUnits   bufferUnitsAlias  bufferRadii  \\\n",
       "0  NetworkServiceArea     Minutes  Walk Time Minutes           15   \n",
       "1  NetworkServiceArea     Minutes  Walk Time Minutes           15   \n",
       "\n",
       "                   aggregationMethod  populationToPolygonSizeRating  \\\n",
       "0  BlockApportionment:US.BlockGroups                          2.191   \n",
       "1  BlockApportionment:US.BlockGroups                          2.191   \n",
       "\n",
       "   apportionmentConfidence  HasData  AVGIA15_CY  AVGIA25_CY  \\\n",
       "0                    2.576        1       99991      158752   \n",
       "1                    2.576        1       94653      169352   \n",
       "\n",
       "                                               SHAPE  \n",
       "0  {\"rings\": [[[-122.41218985995754, 37.817749084...  \n",
       "1  {\"rings\": [[[-122.402308436748, 37.75284610091...  "
      ]
     },
     "execution_count": 18,
     "metadata": {},
     "output_type": "execute_result"
    }
   ],
   "source": [
    "fs_json = json.loads(response.text)[\"results\"][0][\"value\"][\"FeatureSet\"][0]\n",
    "\n",
    "enriched_df = FeatureSet.from_dict(fs_json).sdf\n",
    "enriched_df.head(n=2)"
   ]
  },
  {
   "cell_type": "code",
   "execution_count": 19,
   "metadata": {
    "scrolled": true
   },
   "outputs": [
    {
     "data": {
      "image/png": "[encoded data removed]",
      "text/plain": [
       "<Figure size 864x288 with 1 Axes>"
      ]
     },
     "metadata": {
      "needs_background": "light"
     },
     "output_type": "display_data"
    }
   ],
   "source": [
    "plot = enriched_df[[\"address\",\"AVGIA15_CY\",\"AVGIA25_CY\",]].plot.barh(x='address', stacked=True, figsize=(12, 4))"
   ]
  },
  {
   "cell_type": "code",
   "execution_count": 20,
   "metadata": {},
   "outputs": [
    {
     "data": {
      "application/vnd.jupyter.widget-view+json": {
       "model_id": "b200bc625871414ba8b71e9ded6f3855",
       "version_major": 2,
       "version_minor": 0
      },
      "text/plain": [
       "MapView(layout=Layout(height='400px', width='100%'))"
      ]
     },
     "metadata": {},
     "output_type": "display_data"
    },
    {
     "data": {
      "text/html": [
       "<div class=\"map-static-img-preview-51b5623d-2724-49ac-87c8-5e5d0b5358c6\"><img src=\"\"></img></div>"
      ],
      "text/plain": [
       "<IPython.core.display.HTML object>"
      ]
     },
     "metadata": {},
     "output_type": "display_data"
    },
    {
     "data": {
      "text/html": [
       "<div class=\"map-html-embed-preview-51b5623d-2724-49ac-87c8-5e5d0b5358c6\"></div>"
      ],
      "text/plain": [
       "<IPython.core.display.HTML object>"
      ]
     },
     "metadata": {},
     "output_type": "display_data"
    }
   ],
   "source": [
    "sf_map2 = gis.map('San Francisco', zoomlevel=12)\n",
    "sf_map2.basemap = 'openstreetmap'\n",
    "sf_map2"
   ]
  },
  {
   "cell_type": "code",
   "execution_count": 21,
   "metadata": {},
   "outputs": [
    {
     "data": {
      "text/html": [
       "<div>\n",
       "<style scoped>\n",
       "    .dataframe tbody tr th:only-of-type {\n",
       "        vertical-align: middle;\n",
       "    }\n",
       "\n",
       "    .dataframe tbody tr th {\n",
       "        vertical-align: top;\n",
       "    }\n",
       "\n",
       "    .dataframe thead th {\n",
       "        text-align: right;\n",
       "    }\n",
       "</style>\n",
       "<table border=\"1\" class=\"dataframe\">\n",
       "  <thead>\n",
       "    <tr style=\"text-align: right;\">\n",
       "      <th></th>\n",
       "      <th>ID</th>\n",
       "      <th>OBJECTID</th>\n",
       "      <th>sourceCountry</th>\n",
       "      <th>address</th>\n",
       "      <th>X</th>\n",
       "      <th>Y</th>\n",
       "      <th>areaType</th>\n",
       "      <th>bufferUnits</th>\n",
       "      <th>bufferUnitsAlias</th>\n",
       "      <th>bufferRadii</th>\n",
       "      <th>aggregationMethod</th>\n",
       "      <th>populationToPolygonSizeRating</th>\n",
       "      <th>apportionmentConfidence</th>\n",
       "      <th>HasData</th>\n",
       "      <th>AVGIA15_CY</th>\n",
       "      <th>AVGIA25_CY</th>\n",
       "      <th>SHAPE</th>\n",
       "      <th>INCOME15_34</th>\n",
       "    </tr>\n",
       "  </thead>\n",
       "  <tbody>\n",
       "    <tr>\n",
       "      <th>0</th>\n",
       "      <td>0</td>\n",
       "      <td>1</td>\n",
       "      <td>US</td>\n",
       "      <td>145 Jefferson St</td>\n",
       "      <td>-122.414643</td>\n",
       "      <td>37.808061</td>\n",
       "      <td>NetworkServiceArea</td>\n",
       "      <td>Minutes</td>\n",
       "      <td>Walk Time Minutes</td>\n",
       "      <td>15</td>\n",
       "      <td>BlockApportionment:US.BlockGroups</td>\n",
       "      <td>2.191</td>\n",
       "      <td>2.576</td>\n",
       "      <td>1</td>\n",
       "      <td>99991</td>\n",
       "      <td>158752</td>\n",
       "      <td>{\"rings\": [[[-122.41218985995754, 37.817749084...</td>\n",
       "      <td>258743</td>\n",
       "    </tr>\n",
       "    <tr>\n",
       "      <th>1</th>\n",
       "      <td>1</td>\n",
       "      <td>2</td>\n",
       "      <td>US</td>\n",
       "      <td>345 Bay Shore Blvd</td>\n",
       "      <td>-122.405194</td>\n",
       "      <td>37.742088</td>\n",
       "      <td>NetworkServiceArea</td>\n",
       "      <td>Minutes</td>\n",
       "      <td>Walk Time Minutes</td>\n",
       "      <td>15</td>\n",
       "      <td>BlockApportionment:US.BlockGroups</td>\n",
       "      <td>2.191</td>\n",
       "      <td>2.576</td>\n",
       "      <td>1</td>\n",
       "      <td>94653</td>\n",
       "      <td>169352</td>\n",
       "      <td>{\"rings\": [[[-122.402308436748, 37.75284610091...</td>\n",
       "      <td>264005</td>\n",
       "    </tr>\n",
       "  </tbody>\n",
       "</table>\n",
       "</div>"
      ],
      "text/plain": [
       "  ID  OBJECTID sourceCountry             address           X          Y  \\\n",
       "0  0         1            US    145 Jefferson St -122.414643  37.808061   \n",
       "1  1         2            US  345 Bay Shore Blvd -122.405194  37.742088   \n",
       "\n",
       "             areaType bufferUnits   bufferUnitsAlias  bufferRadii  \\\n",
       "0  NetworkServiceArea     Minutes  Walk Time Minutes           15   \n",
       "1  NetworkServiceArea     Minutes  Walk Time Minutes           15   \n",
       "\n",
       "                   aggregationMethod  populationToPolygonSizeRating  \\\n",
       "0  BlockApportionment:US.BlockGroups                          2.191   \n",
       "1  BlockApportionment:US.BlockGroups                          2.191   \n",
       "\n",
       "   apportionmentConfidence  HasData  AVGIA15_CY  AVGIA25_CY  \\\n",
       "0                    2.576        1       99991      158752   \n",
       "1                    2.576        1       94653      169352   \n",
       "\n",
       "                                               SHAPE  INCOME15_34  \n",
       "0  {\"rings\": [[[-122.41218985995754, 37.817749084...       258743  \n",
       "1  {\"rings\": [[[-122.402308436748, 37.75284610091...       264005  "
      ]
     },
     "execution_count": 21,
     "metadata": {},
     "output_type": "execute_result"
    }
   ],
   "source": [
    "enriched_df[\"INCOME15_34\"] = enriched_df[\"AVGIA15_CY\"] + enriched_df[\"AVGIA25_CY\"]\n",
    "enriched_df.head(n=2)"
   ]
  },
  {
   "cell_type": "code",
   "execution_count": 22,
   "metadata": {},
   "outputs": [],
   "source": [
    "fs = FeatureSet.from_dataframe(enriched_df)\n",
    "\n",
    "\n",
    "sf_map2.draw(fs)\n",
    "sf_map2.add_layer(fs, {'renderer':'ClassedSizeRenderer','field_name':'INCOME15_34'})"
   ]
  },
  {
   "cell_type": "markdown",
   "metadata": {},
   "source": [
    "## Creating Report"
   ]
  },
  {
   "cell_type": "code",
   "execution_count": 23,
   "metadata": {},
   "outputs": [],
   "source": [
    "ge_report_url = 'https://geoenrich.arcgis.com/arcgis/rest/services/World/geoenrichmentserver/Geoenrichment/CreateReport'"
   ]
  },
  {
   "cell_type": "code",
   "execution_count": 24,
   "metadata": {},
   "outputs": [],
   "source": [
    "report_params = {\n",
    "    'studyareas':str(mac_study_areas[:1]),\n",
    "    'studyareasoptions':str({\"areaType\": \"NetworkServiceArea\", \"bufferUnits\": \"Minutes\", \"bufferRadii\": [15], \"travel_mode\": \"Walking\"}),\n",
    "    'report': \"Demographic and Income Profile\",\n",
    "    'f':'bin',\n",
    "    'token':api_key\n",
    "}"
   ]
  },
  {
   "cell_type": "code",
   "execution_count": 25,
   "metadata": {},
   "outputs": [],
   "source": [
    "response = requests.post(ge_report_url, data=report_params)\n",
    "\n",
    "f = open(\"output/Demographic and Income Profile.pdf\", 'wb')\n",
    "f.write(response.content)\n",
    "f.close()"
   ]
  }
 ],
 "metadata": {
  "kernelspec": {
   "display_name": "Python 3",
   "language": "python",
   "name": "python3"
  },
  "language_info": {
   "codemirror_mode": {
    "name": "ipython",
    "version": 3
   },
   "file_extension": ".py",
   "mimetype": "text/x-python",
   "name": "python",
   "nbconvert_exporter": "python",
   "pygments_lexer": "ipython3",
   "version": "3.8.5"
  }
 },
 "nbformat": 4,
 "nbformat_minor": 2
}
