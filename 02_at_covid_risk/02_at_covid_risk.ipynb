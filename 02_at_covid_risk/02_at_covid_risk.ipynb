{
 "cells": [
  {
   "cell_type": "markdown",
   "metadata": {},
   "source": [
    "## Getting Started"
   ]
  },
  {
   "cell_type": "code",
   "execution_count": null,
   "metadata": {},
   "outputs": [],
   "source": [
    "from arcgis.gis import GIS\n",
    "from arcgis.geoenrichment import enrich\n",
    "from arcgis.geoenrichment import create_report\n",
    "from arcgis.geometry import Envelope\n",
    "from arcgis.features.manage_data import generate_tessellation\n",
    "from arcgis.features import FeatureSet\n",
    "from getpass import getpass"
   ]
  },
  {
   "cell_type": "code",
   "execution_count": null,
   "metadata": {},
   "outputs": [],
   "source": [
    "password=getpass()\n",
    "gis = GIS(username=\"YOUR-USERNAME\", password=password)"
   ]
  },
  {
   "cell_type": "markdown",
   "metadata": {},
   "source": [
    "## Build Analysis Areas"
   ]
  },
  {
   "cell_type": "code",
   "execution_count": null,
   "metadata": {},
   "outputs": [],
   "source": [
    "inland_empire_map = gis.map('Redlands, CA, USA', zoomlevel=12)\n",
    "inland_empire_map.basemap = 'openstreetmap'\n",
    "inland_empire_map"
   ]
  },
  {
   "cell_type": "code",
   "execution_count": null,
   "metadata": {},
   "outputs": [],
   "source": [
    "hexagons = generate_tessellation(None, bin_size=1, bin_size_unit='SquareMiles', bin_type='HEXAGON', context={\"extent\":inland_empire_map.extent})\n",
    "inland_empire_map.add_layer(hexagons)\n",
    "\n",
    "len(hexagons.layer.featureSet.features)"
   ]
  },
  {
   "cell_type": "code",
   "execution_count": null,
   "metadata": {
    "scrolled": true
   },
   "outputs": [],
   "source": [
    "geometry_areas = [{\"geometry\":f[\"geometry\"].copy()} for f in hexagons.layer.featureSet.features]\n",
    "\n",
    "for area in geometry_areas:\n",
    "    area[\"geometry\"][\"spatialReference\"]={\"wkid\":3857}"
   ]
  },
  {
   "cell_type": "code",
   "execution_count": null,
   "metadata": {
    "scrolled": true
   },
   "outputs": [],
   "source": [
    "enriched_areas=enrich(study_areas=geometry_areas, analysis_variables=[\"KeyGlobalFacts.TOTPOP\",\"AtRisk.SENIORS_CY\"])\n",
    "enriched_areas.head()"
   ]
  },
  {
   "cell_type": "code",
   "execution_count": null,
   "metadata": {},
   "outputs": [],
   "source": [
    "enriched_areas[\"SENIORS_PERCENT\"] = enriched_areas[\"SENIORS_CY\"]  / enriched_areas[\"TOTPOP\"] * 100\n",
    "\n",
    "senior_populated_area = enriched_areas[enriched_areas[\"SENIORS_PERCENT\"] > 25]\n",
    "senior_populated_area.shape[0]"
   ]
  },
  {
   "cell_type": "code",
   "execution_count": null,
   "metadata": {},
   "outputs": [],
   "source": [
    "inland_empire_map2 = gis.map('Redlands, CA, USA', zoomlevel=12)\n",
    "inland_empire_map2.basemap = 'openstreetmap'\n",
    "\n",
    "inland_empire_map2.add_layer(FeatureSet.from_dataframe(senior_populated_area.copy()))\n",
    "inland_empire_map2"
   ]
  },
  {
   "cell_type": "code",
   "execution_count": null,
   "metadata": {},
   "outputs": [],
   "source": [
    "inland_empire_map2.add_layer(FeatureSet.from_dataframe(enriched_areas), {'renderer':'ClassedSizeRenderer','field_name':'SENIORS_PERCENT', 'opacity':0.5})"
   ]
  },
  {
   "cell_type": "code",
   "execution_count": null,
   "metadata": {},
   "outputs": [],
   "source": [
    "most_senior_area = enriched_areas[enriched_areas.SENIORS_PERCENT == enriched_areas.SENIORS_PERCENT.max()]\n",
    "most_senior_area"
   ]
  },
  {
   "cell_type": "code",
   "execution_count": null,
   "metadata": {},
   "outputs": [],
   "source": [
    "fill_symbol = {\n",
    "  \"type\": \"esriSFS\",\n",
    "  \"style\": \"esriSFSSolid\",\n",
    "  \"color\": [255,0,0,255],\n",
    "    \"outline\": {\n",
    "     \"type\": \"esriSLS\",\n",
    "     \"style\": \"esriSLSSolid\",\n",
    "     \"color\": [0,0,0,255],\n",
    "     \"width\": 1\n",
    "    }\n",
    "}\n",
    "\n",
    "inland_empire_map2.draw(most_senior_area.iloc[0].SHAPE, symbol = fill_symbol)"
   ]
  },
  {
   "cell_type": "markdown",
   "metadata": {},
   "source": [
    "## Building Report"
   ]
  },
  {
   "cell_type": "code",
   "execution_count": null,
   "metadata": {},
   "outputs": [],
   "source": [
    "most_senior_study_area = {\"geometry\":most_senior_area.iloc[0].SHAPE}\n",
    "\n",
    "# coronavirus impact planning report\n",
    "report = create_report(study_areas=[most_senior_study_area], report={\"itemid\":\"ac36af7d86b74071a1cff5dc11f52ae8\"}, out_name=\"COVID Impact Planning Profile.pdf\", out_folder=\"output\")"
   ]
  },
  {
   "cell_type": "code",
   "execution_count": null,
   "metadata": {},
   "outputs": [],
   "source": [
    "# health care & insurace \n",
    "report = create_report(study_areas=[most_senior_study_area], report={\"itemid\":\"d29fcd15f66f46edad86499675b0ec03\"}, export_format='html', out_name=\"Health Care and Insurance.html\", out_folder=\"output\")"
   ]
  }
 ],
 "metadata": {
  "kernelspec": {
   "display_name": "Python 3",
   "language": "python",
   "name": "python3"
  },
  "language_info": {
   "codemirror_mode": {
    "name": "ipython",
    "version": 3
   },
   "file_extension": ".py",
   "mimetype": "text/x-python",
   "name": "python",
   "nbconvert_exporter": "python",
   "pygments_lexer": "ipython3",
   "version": "3.8.5"
  }
 },
 "nbformat": 4,
 "nbformat_minor": 2
}
