{
 "cells": [
  {
   "cell_type": "markdown",
   "metadata": {},
   "source": [
    "## Getting Started"
   ]
  },
  {
   "cell_type": "code",
   "execution_count": 1,
   "metadata": {},
   "outputs": [],
   "source": [
    "import pandas as pd\n",
    "from arcgis.gis import GIS\n",
    "from arcgis.geoenrichment import enrich\n",
    "from arcgis.features import FeatureSet"
   ]
  },
  {
   "cell_type": "code",
   "execution_count": 2,
   "metadata": {},
   "outputs": [],
   "source": [
    "gis = GIS(api_key=\"YOUR-API-KEY\")"
   ]
  },
  {
   "cell_type": "markdown",
   "metadata": {},
   "source": [
    "## Analysis Areas"
   ]
  },
  {
   "cell_type": "code",
   "execution_count": 3,
   "metadata": {
    "scrolled": true
   },
   "outputs": [
    {
     "data": {
      "text/html": [
       "<div>\n",
       "<style scoped>\n",
       "    .dataframe tbody tr th:only-of-type {\n",
       "        vertical-align: middle;\n",
       "    }\n",
       "\n",
       "    .dataframe tbody tr th {\n",
       "        vertical-align: top;\n",
       "    }\n",
       "\n",
       "    .dataframe thead th {\n",
       "        text-align: right;\n",
       "    }\n",
       "</style>\n",
       "<table border=\"1\" class=\"dataframe\">\n",
       "  <thead>\n",
       "    <tr style=\"text-align: right;\">\n",
       "      <th></th>\n",
       "      <th>Business Name</th>\n",
       "      <th>Address</th>\n",
       "      <th>City</th>\n",
       "      <th>State</th>\n",
       "      <th>ZIP</th>\n",
       "      <th>NAICS Code</th>\n",
       "      <th>Brand Name</th>\n",
       "    </tr>\n",
       "  </thead>\n",
       "  <tbody>\n",
       "    <tr>\n",
       "      <th>0</th>\n",
       "      <td>CVS</td>\n",
       "      <td>33499 Yucaipa Blvd</td>\n",
       "      <td>Yucaipa</td>\n",
       "      <td>CA</td>\n",
       "      <td>92399</td>\n",
       "      <td>446110</td>\n",
       "      <td>CVS</td>\n",
       "    </tr>\n",
       "    <tr>\n",
       "      <th>1</th>\n",
       "      <td>CVS</td>\n",
       "      <td>12280 Perris Blvd</td>\n",
       "      <td>Moreno Valley</td>\n",
       "      <td>CA</td>\n",
       "      <td>92557</td>\n",
       "      <td>446110</td>\n",
       "      <td>CVS</td>\n",
       "    </tr>\n",
       "    <tr>\n",
       "      <th>2</th>\n",
       "      <td>CVS</td>\n",
       "      <td>8148 E Santa Ana Canyon Rd</td>\n",
       "      <td>Anaheim</td>\n",
       "      <td>CA</td>\n",
       "      <td>92808</td>\n",
       "      <td>446110</td>\n",
       "      <td>CVS</td>\n",
       "    </tr>\n",
       "    <tr>\n",
       "      <th>3</th>\n",
       "      <td>CVS</td>\n",
       "      <td>120 E Bonita Ave</td>\n",
       "      <td>San Dimas</td>\n",
       "      <td>CA</td>\n",
       "      <td>91773</td>\n",
       "      <td>446110</td>\n",
       "      <td>CVS</td>\n",
       "    </tr>\n",
       "    <tr>\n",
       "      <th>4</th>\n",
       "      <td>CVS</td>\n",
       "      <td>4200 E 4th St</td>\n",
       "      <td>Ontario</td>\n",
       "      <td>CA</td>\n",
       "      <td>91764</td>\n",
       "      <td>446110</td>\n",
       "      <td>CVS</td>\n",
       "    </tr>\n",
       "    <tr>\n",
       "      <th>...</th>\n",
       "      <td>...</td>\n",
       "      <td>...</td>\n",
       "      <td>...</td>\n",
       "      <td>...</td>\n",
       "      <td>...</td>\n",
       "      <td>...</td>\n",
       "      <td>...</td>\n",
       "    </tr>\n",
       "    <tr>\n",
       "      <th>76</th>\n",
       "      <td>CVS</td>\n",
       "      <td>9840 Sierra Ave</td>\n",
       "      <td>Fontana</td>\n",
       "      <td>CA</td>\n",
       "      <td>92335</td>\n",
       "      <td>446110</td>\n",
       "      <td>CVS</td>\n",
       "    </tr>\n",
       "    <tr>\n",
       "      <th>77</th>\n",
       "      <td>CVS</td>\n",
       "      <td>5555 Philadelphia St</td>\n",
       "      <td>Chino</td>\n",
       "      <td>CA</td>\n",
       "      <td>91710</td>\n",
       "      <td>446110</td>\n",
       "      <td>CVS</td>\n",
       "    </tr>\n",
       "    <tr>\n",
       "      <th>78</th>\n",
       "      <td>CVS</td>\n",
       "      <td>16964 Slover Ave</td>\n",
       "      <td>Fontana</td>\n",
       "      <td>CA</td>\n",
       "      <td>92337</td>\n",
       "      <td>446110</td>\n",
       "      <td>CVS</td>\n",
       "    </tr>\n",
       "    <tr>\n",
       "      <th>79</th>\n",
       "      <td>CVS</td>\n",
       "      <td>1931 N Campus Ave</td>\n",
       "      <td>Upland</td>\n",
       "      <td>CA</td>\n",
       "      <td>91784</td>\n",
       "      <td>446110</td>\n",
       "      <td>CVS</td>\n",
       "    </tr>\n",
       "    <tr>\n",
       "      <th>80</th>\n",
       "      <td>CVS specialty pharmacy</td>\n",
       "      <td>1127 Bryn Mawr Ave Ste A</td>\n",
       "      <td>Redlands</td>\n",
       "      <td>CA</td>\n",
       "      <td>92374</td>\n",
       "      <td>446110</td>\n",
       "      <td>NaN</td>\n",
       "    </tr>\n",
       "  </tbody>\n",
       "</table>\n",
       "<p>81 rows × 7 columns</p>\n",
       "</div>"
      ],
      "text/plain": [
       "             Business Name                     Address           City State  \\\n",
       "0                      CVS          33499 Yucaipa Blvd        Yucaipa    CA   \n",
       "1                      CVS           12280 Perris Blvd  Moreno Valley    CA   \n",
       "2                      CVS  8148 E Santa Ana Canyon Rd        Anaheim    CA   \n",
       "3                      CVS            120 E Bonita Ave      San Dimas    CA   \n",
       "4                      CVS               4200 E 4th St        Ontario    CA   \n",
       "..                     ...                         ...            ...   ...   \n",
       "76                     CVS             9840 Sierra Ave        Fontana    CA   \n",
       "77                     CVS        5555 Philadelphia St          Chino    CA   \n",
       "78                     CVS            16964 Slover Ave        Fontana    CA   \n",
       "79                     CVS           1931 N Campus Ave         Upland    CA   \n",
       "80  CVS specialty pharmacy    1127 Bryn Mawr Ave Ste A       Redlands    CA   \n",
       "\n",
       "      ZIP  NAICS Code Brand Name  \n",
       "0   92399      446110        CVS  \n",
       "1   92557      446110        CVS  \n",
       "2   92808      446110        CVS  \n",
       "3   91773      446110        CVS  \n",
       "4   91764      446110        CVS  \n",
       "..    ...         ...        ...  \n",
       "76  92335      446110        CVS  \n",
       "77  91710      446110        CVS  \n",
       "78  92337      446110        CVS  \n",
       "79  91784      446110        CVS  \n",
       "80  92374      446110        NaN  \n",
       "\n",
       "[81 rows x 7 columns]"
      ]
     },
     "execution_count": 3,
     "metadata": {},
     "output_type": "execute_result"
    }
   ],
   "source": [
    "df = pd.read_csv(\"data/cvs_pharmacies.csv\")\n",
    "df"
   ]
  },
  {
   "cell_type": "markdown",
   "metadata": {},
   "source": [
    "## Enriching Areas"
   ]
  },
  {
   "cell_type": "code",
   "execution_count": 4,
   "metadata": {},
   "outputs": [],
   "source": [
    "cvs_areas = [{\"address\":x, \"areaType\": \"DriveTimeBuffer\",\"bufferRadii\":[5], \"bufferUnits\": \"Minutes\"} for x in df.to_dict('records')]"
   ]
  },
  {
   "cell_type": "code",
   "execution_count": 5,
   "metadata": {},
   "outputs": [
    {
     "data": {
      "text/html": [
       "<div>\n",
       "<style scoped>\n",
       "    .dataframe tbody tr th:only-of-type {\n",
       "        vertical-align: middle;\n",
       "    }\n",
       "\n",
       "    .dataframe tbody tr th {\n",
       "        vertical-align: top;\n",
       "    }\n",
       "\n",
       "    .dataframe thead th {\n",
       "        text-align: right;\n",
       "    }\n",
       "</style>\n",
       "<table border=\"1\" class=\"dataframe\">\n",
       "  <thead>\n",
       "    <tr style=\"text-align: right;\">\n",
       "      <th></th>\n",
       "      <th>ID</th>\n",
       "      <th>OBJECTID</th>\n",
       "      <th>sourceCountry</th>\n",
       "      <th>X</th>\n",
       "      <th>Y</th>\n",
       "      <th>areaType</th>\n",
       "      <th>bufferUnits</th>\n",
       "      <th>bufferUnitsAlias</th>\n",
       "      <th>bufferRadii</th>\n",
       "      <th>aggregationMethod</th>\n",
       "      <th>populationToPolygonSizeRating</th>\n",
       "      <th>apportionmentConfidence</th>\n",
       "      <th>HasData</th>\n",
       "      <th>SENIORS_CY</th>\n",
       "      <th>SHAPE</th>\n",
       "    </tr>\n",
       "  </thead>\n",
       "  <tbody>\n",
       "    <tr>\n",
       "      <th>0</th>\n",
       "      <td>0</td>\n",
       "      <td>1</td>\n",
       "      <td>US</td>\n",
       "      <td>-117.073666</td>\n",
       "      <td>34.033263</td>\n",
       "      <td>DriveTimeBuffer</td>\n",
       "      <td>Minutes</td>\n",
       "      <td>Minutes</td>\n",
       "      <td>5</td>\n",
       "      <td>BlockApportionment:US.BlockGroups</td>\n",
       "      <td>2.191</td>\n",
       "      <td>2.576</td>\n",
       "      <td>1</td>\n",
       "      <td>3103</td>\n",
       "      <td>{\"rings\": [[[-117.04073818928451, 34.054948149...</td>\n",
       "    </tr>\n",
       "    <tr>\n",
       "      <th>1</th>\n",
       "      <td>1</td>\n",
       "      <td>2</td>\n",
       "      <td>US</td>\n",
       "      <td>-117.224860</td>\n",
       "      <td>33.942061</td>\n",
       "      <td>DriveTimeBuffer</td>\n",
       "      <td>Minutes</td>\n",
       "      <td>Minutes</td>\n",
       "      <td>5</td>\n",
       "      <td>BlockApportionment:US.BlockGroups</td>\n",
       "      <td>2.191</td>\n",
       "      <td>2.576</td>\n",
       "      <td>1</td>\n",
       "      <td>4179</td>\n",
       "      <td>{\"rings\": [[[-117.23275220271273, 33.978367121...</td>\n",
       "    </tr>\n",
       "  </tbody>\n",
       "</table>\n",
       "</div>"
      ],
      "text/plain": [
       "  ID  OBJECTID sourceCountry           X          Y         areaType  \\\n",
       "0  0         1            US -117.073666  34.033263  DriveTimeBuffer   \n",
       "1  1         2            US -117.224860  33.942061  DriveTimeBuffer   \n",
       "\n",
       "  bufferUnits bufferUnitsAlias  bufferRadii  \\\n",
       "0     Minutes          Minutes            5   \n",
       "1     Minutes          Minutes            5   \n",
       "\n",
       "                   aggregationMethod  populationToPolygonSizeRating  \\\n",
       "0  BlockApportionment:US.BlockGroups                          2.191   \n",
       "1  BlockApportionment:US.BlockGroups                          2.191   \n",
       "\n",
       "   apportionmentConfidence  HasData  SENIORS_CY  \\\n",
       "0                    2.576        1        3103   \n",
       "1                    2.576        1        4179   \n",
       "\n",
       "                                               SHAPE  \n",
       "0  {\"rings\": [[[-117.04073818928451, 34.054948149...  \n",
       "1  {\"rings\": [[[-117.23275220271273, 33.978367121...  "
      ]
     },
     "execution_count": 5,
     "metadata": {},
     "output_type": "execute_result"
    }
   ],
   "source": [
    "cvs_dt_5min = enrich(cvs_areas, analysis_variables=[\"AtRisk.SENIORS_CY\"])\n",
    "cvs_dt_5min.head(n=2)"
   ]
  },
  {
   "cell_type": "code",
   "execution_count": 6,
   "metadata": {},
   "outputs": [
    {
     "data": {
      "application/vnd.jupyter.widget-view+json": {
       "model_id": "5bcfa20416fc4ba3bf179c4a843c67fc",
       "version_major": 2,
       "version_minor": 0
      },
      "text/plain": [
       "MapView(layout=Layout(height='400px', width='100%'))"
      ]
     },
     "metadata": {},
     "output_type": "display_data"
    },
    {
     "data": {
      "text/html": [
       "<div class=\"map-static-img-preview-08d1f51d-eaf0-446c-8780-91503e67db44\"><img src=\"\"></img></div>"
      ],
      "text/plain": [
       "<IPython.core.display.HTML object>"
      ]
     },
     "metadata": {},
     "output_type": "display_data"
    },
    {
     "data": {
      "text/html": [
       "<div class=\"map-html-embed-preview-08d1f51d-eaf0-446c-8780-91503e67db44\"></div>"
      ],
      "text/plain": [
       "<IPython.core.display.HTML object>"
      ]
     },
     "metadata": {},
     "output_type": "display_data"
    }
   ],
   "source": [
    "cvs_map = gis.map('Ontario, CA, USA', zoomlevel=10)\n",
    "cvs_map.basemap = 'dark-gray'\n",
    "\n",
    "cvs_map.add_layer(FeatureSet.from_dataframe(cvs_dt_5min), {'renderer':'ClassedColorRenderer','field_name':'SENIORS_CY', 'opacity':0.5})\n",
    "cvs_map"
   ]
  },
  {
   "cell_type": "markdown",
   "metadata": {},
   "source": [
    "## Data Analysis"
   ]
  },
  {
   "cell_type": "code",
   "execution_count": 7,
   "metadata": {
    "scrolled": true
   },
   "outputs": [
    {
     "data": {
      "text/plain": [
       "(4, 15)"
      ]
     },
     "execution_count": 7,
     "metadata": {},
     "output_type": "execute_result"
    }
   ],
   "source": [
    "significant_senior_population = cvs_dt_5min[cvs_dt_5min['SENIORS_CY'] > 10000]\n",
    "significant_senior_population.shape"
   ]
  },
  {
   "cell_type": "code",
   "execution_count": 8,
   "metadata": {},
   "outputs": [
    {
     "data": {
      "application/vnd.jupyter.widget-view+json": {
       "model_id": "de5d8b10d0524998a2c893dabdc79f26",
       "version_major": 2,
       "version_minor": 0
      },
      "text/plain": [
       "MapView(layout=Layout(height='400px', width='100%'))"
      ]
     },
     "metadata": {},
     "output_type": "display_data"
    },
    {
     "data": {
      "text/html": [
       "<div class=\"map-static-img-preview-e7beaa92-af3f-4b26-a7e3-28046cfe4b83\"><img src=\"\"></img></div>"
      ],
      "text/plain": [
       "<IPython.core.display.HTML object>"
      ]
     },
     "metadata": {},
     "output_type": "display_data"
    },
    {
     "data": {
      "text/html": [
       "<div class=\"map-html-embed-preview-e7beaa92-af3f-4b26-a7e3-28046cfe4b83\"></div>"
      ],
      "text/plain": [
       "<IPython.core.display.HTML object>"
      ]
     },
     "metadata": {},
     "output_type": "display_data"
    }
   ],
   "source": [
    "cvs_map2 = gis.map('Ontario, CA, USA', zoomlevel=10)\n",
    "cvs_map2.basemap = 'dark-gray'\n",
    "\n",
    "cvs_map2.add_layer(FeatureSet.from_dataframe(significant_senior_population.copy()), {'renderer':'ClassedColorRenderer','field_name':'SENIORS_CY', 'opacity':0.5})\n",
    "cvs_map2"
   ]
  }
 ],
 "metadata": {
  "kernelspec": {
   "display_name": "Python 3",
   "language": "python",
   "name": "python3"
  },
  "language_info": {
   "codemirror_mode": {
    "name": "ipython",
    "version": 3
   },
   "file_extension": ".py",
   "mimetype": "text/x-python",
   "name": "python",
   "nbconvert_exporter": "python",
   "pygments_lexer": "ipython3",
   "version": "3.8.5"
  }
 },
 "nbformat": 4,
 "nbformat_minor": 2
}
