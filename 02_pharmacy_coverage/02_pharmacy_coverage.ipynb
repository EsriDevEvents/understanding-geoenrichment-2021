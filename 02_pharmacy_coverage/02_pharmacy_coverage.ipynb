{
 "cells": [
  {
   "cell_type": "markdown",
   "metadata": {},
   "source": [
    "## Getting Started"
   ]
  },
  {
   "cell_type": "code",
   "execution_count": 1,
   "metadata": {},
   "outputs": [],
   "source": [
    "import pandas as pd\n",
    "from arcgis.gis import GIS\n",
    "from arcgis.geoenrichment import enrich\n",
    "from arcgis.features import FeatureSet"
   ]
  },
  {
   "cell_type": "code",
   "execution_count": 2,
   "metadata": {},
   "outputs": [],
   "source": [
    "gis = GIS(api_key=\"YOUR-API-KEY\")"
   ]
  },
  {
   "cell_type": "markdown",
   "metadata": {},
   "source": [
    "## Analysis Areas"
   ]
  },
  {
   "cell_type": "code",
   "execution_count": 15,
   "metadata": {
    "scrolled": true
   },
   "outputs": [
    {
     "data": {
      "text/html": [
       "<div>\n",
       "<style scoped>\n",
       "    .dataframe tbody tr th:only-of-type {\n",
       "        vertical-align: middle;\n",
       "    }\n",
       "\n",
       "    .dataframe tbody tr th {\n",
       "        vertical-align: top;\n",
       "    }\n",
       "\n",
       "    .dataframe thead th {\n",
       "        text-align: right;\n",
       "    }\n",
       "</style>\n",
       "<table border=\"1\" class=\"dataframe\">\n",
       "  <thead>\n",
       "    <tr style=\"text-align: right;\">\n",
       "      <th></th>\n",
       "      <th>Business Name</th>\n",
       "      <th>Address</th>\n",
       "      <th>City</th>\n",
       "      <th>State</th>\n",
       "      <th>ZIP</th>\n",
       "      <th>NAICS Code</th>\n",
       "      <th>Brand Name</th>\n",
       "    </tr>\n",
       "  </thead>\n",
       "  <tbody>\n",
       "    <tr>\n",
       "      <th>0</th>\n",
       "      <td>CVS</td>\n",
       "      <td>33499 Yucaipa Blvd</td>\n",
       "      <td>Yucaipa</td>\n",
       "      <td>CA</td>\n",
       "      <td>92399</td>\n",
       "      <td>446110</td>\n",
       "      <td>CVS</td>\n",
       "    </tr>\n",
       "    <tr>\n",
       "      <th>1</th>\n",
       "      <td>CVS</td>\n",
       "      <td>12280 Perris Blvd</td>\n",
       "      <td>Moreno Valley</td>\n",
       "      <td>CA</td>\n",
       "      <td>92557</td>\n",
       "      <td>446110</td>\n",
       "      <td>CVS</td>\n",
       "    </tr>\n",
       "    <tr>\n",
       "      <th>2</th>\n",
       "      <td>CVS</td>\n",
       "      <td>8148 E Santa Ana Canyon Rd</td>\n",
       "      <td>Anaheim</td>\n",
       "      <td>CA</td>\n",
       "      <td>92808</td>\n",
       "      <td>446110</td>\n",
       "      <td>CVS</td>\n",
       "    </tr>\n",
       "    <tr>\n",
       "      <th>3</th>\n",
       "      <td>CVS</td>\n",
       "      <td>120 E Bonita Ave</td>\n",
       "      <td>San Dimas</td>\n",
       "      <td>CA</td>\n",
       "      <td>91773</td>\n",
       "      <td>446110</td>\n",
       "      <td>CVS</td>\n",
       "    </tr>\n",
       "    <tr>\n",
       "      <th>4</th>\n",
       "      <td>CVS</td>\n",
       "      <td>4200 E 4th St</td>\n",
       "      <td>Ontario</td>\n",
       "      <td>CA</td>\n",
       "      <td>91764</td>\n",
       "      <td>446110</td>\n",
       "      <td>CVS</td>\n",
       "    </tr>\n",
       "    <tr>\n",
       "      <th>...</th>\n",
       "      <td>...</td>\n",
       "      <td>...</td>\n",
       "      <td>...</td>\n",
       "      <td>...</td>\n",
       "      <td>...</td>\n",
       "      <td>...</td>\n",
       "      <td>...</td>\n",
       "    </tr>\n",
       "    <tr>\n",
       "      <th>76</th>\n",
       "      <td>CVS</td>\n",
       "      <td>9840 Sierra Ave</td>\n",
       "      <td>Fontana</td>\n",
       "      <td>CA</td>\n",
       "      <td>92335</td>\n",
       "      <td>446110</td>\n",
       "      <td>CVS</td>\n",
       "    </tr>\n",
       "    <tr>\n",
       "      <th>77</th>\n",
       "      <td>CVS</td>\n",
       "      <td>5555 Philadelphia St</td>\n",
       "      <td>Chino</td>\n",
       "      <td>CA</td>\n",
       "      <td>91710</td>\n",
       "      <td>446110</td>\n",
       "      <td>CVS</td>\n",
       "    </tr>\n",
       "    <tr>\n",
       "      <th>78</th>\n",
       "      <td>CVS</td>\n",
       "      <td>16964 Slover Ave</td>\n",
       "      <td>Fontana</td>\n",
       "      <td>CA</td>\n",
       "      <td>92337</td>\n",
       "      <td>446110</td>\n",
       "      <td>CVS</td>\n",
       "    </tr>\n",
       "    <tr>\n",
       "      <th>79</th>\n",
       "      <td>CVS</td>\n",
       "      <td>1931 N Campus Ave</td>\n",
       "      <td>Upland</td>\n",
       "      <td>CA</td>\n",
       "      <td>91784</td>\n",
       "      <td>446110</td>\n",
       "      <td>CVS</td>\n",
       "    </tr>\n",
       "    <tr>\n",
       "      <th>80</th>\n",
       "      <td>CVS specialty pharmacy</td>\n",
       "      <td>1127 Bryn Mawr Ave Ste A</td>\n",
       "      <td>Redlands</td>\n",
       "      <td>CA</td>\n",
       "      <td>92374</td>\n",
       "      <td>446110</td>\n",
       "      <td>NaN</td>\n",
       "    </tr>\n",
       "  </tbody>\n",
       "</table>\n",
       "<p>81 rows × 7 columns</p>\n",
       "</div>"
      ],
      "text/plain": [
       "             Business Name                     Address           City State  \\\n",
       "0                      CVS          33499 Yucaipa Blvd        Yucaipa    CA   \n",
       "1                      CVS           12280 Perris Blvd  Moreno Valley    CA   \n",
       "2                      CVS  8148 E Santa Ana Canyon Rd        Anaheim    CA   \n",
       "3                      CVS            120 E Bonita Ave      San Dimas    CA   \n",
       "4                      CVS               4200 E 4th St        Ontario    CA   \n",
       "..                     ...                         ...            ...   ...   \n",
       "76                     CVS             9840 Sierra Ave        Fontana    CA   \n",
       "77                     CVS        5555 Philadelphia St          Chino    CA   \n",
       "78                     CVS            16964 Slover Ave        Fontana    CA   \n",
       "79                     CVS           1931 N Campus Ave         Upland    CA   \n",
       "80  CVS specialty pharmacy    1127 Bryn Mawr Ave Ste A       Redlands    CA   \n",
       "\n",
       "      ZIP  NAICS Code Brand Name  \n",
       "0   92399      446110        CVS  \n",
       "1   92557      446110        CVS  \n",
       "2   92808      446110        CVS  \n",
       "3   91773      446110        CVS  \n",
       "4   91764      446110        CVS  \n",
       "..    ...         ...        ...  \n",
       "76  92335      446110        CVS  \n",
       "77  91710      446110        CVS  \n",
       "78  92337      446110        CVS  \n",
       "79  91784      446110        CVS  \n",
       "80  92374      446110        NaN  \n",
       "\n",
       "[81 rows x 7 columns]"
      ]
     },
     "execution_count": 15,
     "metadata": {},
     "output_type": "execute_result"
    }
   ],
   "source": [
    "df = pd.read_csv(\"data/cvs_pharmacies.csv\")\n",
    "df"
   ]
  },
  {
   "cell_type": "markdown",
   "metadata": {},
   "source": [
    "## Enriching Areas"
   ]
  },
  {
   "cell_type": "code",
   "execution_count": 4,
   "metadata": {},
   "outputs": [],
   "source": [
    "cvs_areas = [{\"address\":x, \"areaType\": \"DriveTimeBuffer\",\"bufferUnits\": \"Minutes\",\"bufferRadii\": [5]} for x in df.to_dict('records')]"
   ]
  },
  {
   "cell_type": "code",
   "execution_count": 8,
   "metadata": {},
   "outputs": [
    {
     "data": {
      "text/html": [
       "<div>\n",
       "<style scoped>\n",
       "    .dataframe tbody tr th:only-of-type {\n",
       "        vertical-align: middle;\n",
       "    }\n",
       "\n",
       "    .dataframe tbody tr th {\n",
       "        vertical-align: top;\n",
       "    }\n",
       "\n",
       "    .dataframe thead th {\n",
       "        text-align: right;\n",
       "    }\n",
       "</style>\n",
       "<table border=\"1\" class=\"dataframe\">\n",
       "  <thead>\n",
       "    <tr style=\"text-align: right;\">\n",
       "      <th></th>\n",
       "      <th>ID</th>\n",
       "      <th>OBJECTID</th>\n",
       "      <th>sourceCountry</th>\n",
       "      <th>X</th>\n",
       "      <th>Y</th>\n",
       "      <th>areaType</th>\n",
       "      <th>bufferUnits</th>\n",
       "      <th>bufferUnitsAlias</th>\n",
       "      <th>bufferRadii</th>\n",
       "      <th>aggregationMethod</th>\n",
       "      <th>populationToPolygonSizeRating</th>\n",
       "      <th>apportionmentConfidence</th>\n",
       "      <th>HasData</th>\n",
       "      <th>SENIORS_CY</th>\n",
       "      <th>SHAPE</th>\n",
       "    </tr>\n",
       "  </thead>\n",
       "  <tbody>\n",
       "    <tr>\n",
       "      <th>0</th>\n",
       "      <td>0</td>\n",
       "      <td>1</td>\n",
       "      <td>US</td>\n",
       "      <td>-117.073666</td>\n",
       "      <td>34.033263</td>\n",
       "      <td>DriveTimeBuffer</td>\n",
       "      <td>Minutes</td>\n",
       "      <td>Minutes</td>\n",
       "      <td>5</td>\n",
       "      <td>BlockApportionment:US.BlockGroups</td>\n",
       "      <td>2.191</td>\n",
       "      <td>2.576</td>\n",
       "      <td>1</td>\n",
       "      <td>3103</td>\n",
       "      <td>{\"rings\": [[[-117.04073818928451, 34.054948149...</td>\n",
       "    </tr>\n",
       "    <tr>\n",
       "      <th>1</th>\n",
       "      <td>1</td>\n",
       "      <td>2</td>\n",
       "      <td>US</td>\n",
       "      <td>-117.224860</td>\n",
       "      <td>33.942061</td>\n",
       "      <td>DriveTimeBuffer</td>\n",
       "      <td>Minutes</td>\n",
       "      <td>Minutes</td>\n",
       "      <td>5</td>\n",
       "      <td>BlockApportionment:US.BlockGroups</td>\n",
       "      <td>2.191</td>\n",
       "      <td>2.576</td>\n",
       "      <td>1</td>\n",
       "      <td>4179</td>\n",
       "      <td>{\"rings\": [[[-117.23275220271273, 33.978367121...</td>\n",
       "    </tr>\n",
       "  </tbody>\n",
       "</table>\n",
       "</div>"
      ],
      "text/plain": [
       "  ID  OBJECTID sourceCountry           X          Y         areaType  \\\n",
       "0  0         1            US -117.073666  34.033263  DriveTimeBuffer   \n",
       "1  1         2            US -117.224860  33.942061  DriveTimeBuffer   \n",
       "\n",
       "  bufferUnits bufferUnitsAlias  bufferRadii  \\\n",
       "0     Minutes          Minutes            5   \n",
       "1     Minutes          Minutes            5   \n",
       "\n",
       "                   aggregationMethod  populationToPolygonSizeRating  \\\n",
       "0  BlockApportionment:US.BlockGroups                          2.191   \n",
       "1  BlockApportionment:US.BlockGroups                          2.191   \n",
       "\n",
       "   apportionmentConfidence  HasData  SENIORS_CY  \\\n",
       "0                    2.576        1        3103   \n",
       "1                    2.576        1        4179   \n",
       "\n",
       "                                               SHAPE  \n",
       "0  {\"rings\": [[[-117.04073818928451, 34.054948149...  \n",
       "1  {\"rings\": [[[-117.23275220271273, 33.978367121...  "
      ]
     },
     "execution_count": 8,
     "metadata": {},
     "output_type": "execute_result"
    }
   ],
   "source": [
    "cvs_dt_5min = enrich(cvs_areas, analysis_variables=[\"AtRisk.SENIORS_CY\"])\n",
    "cvs_dt_5min.head(n=2)"
   ]
  },
  {
   "cell_type": "code",
   "execution_count": 9,
   "metadata": {},
   "outputs": [
    {
     "data": {
      "application/vnd.jupyter.widget-view+json": {
       "model_id": "27d44861dff043588458d244b99c7955",
       "version_major": 2,
       "version_minor": 0
      },
      "text/plain": [
       "MapView(layout=Layout(height='400px', width='100%'))"
      ]
     },
     "metadata": {},
     "output_type": "display_data"
    },
    {
     "data": {
      "text/html": [
       "<div class=\"map-static-img-preview-5f24f11c-3fdb-4553-abc2-a810330c73f0\"><img src=\"\"></img></div>"
      ],
      "text/plain": [
       "<IPython.core.display.HTML object>"
      ]
     },
     "metadata": {},
     "output_type": "display_data"
    },
    {
     "data": {
      "text/html": [
       "<div class=\"map-html-embed-preview-5f24f11c-3fdb-4553-abc2-a810330c73f0\"></div>"
      ],
      "text/plain": [
       "<IPython.core.display.HTML object>"
      ]
     },
     "metadata": {},
     "output_type": "display_data"
    }
   ],
   "source": [
    "cvs_map = gis.map('Ontario, CA, USA', zoomlevel=10)\n",
    "cvs_map.basemap = 'dark-gray'\n",
    "cvs_map"
   ]
  },
  {
   "cell_type": "code",
   "execution_count": 10,
   "metadata": {},
   "outputs": [],
   "source": [
    "cvs_map.add_layer(FeatureSet.from_dataframe(cvs_dt_5min), {'renderer':'ClassedColorRenderer','field_name':'SENIORS_CY', 'opacity':0.5})"
   ]
  },
  {
   "cell_type": "markdown",
   "metadata": {},
   "source": [
    "## Data Analysis"
   ]
  },
  {
   "cell_type": "code",
   "execution_count": 11,
   "metadata": {},
   "outputs": [
    {
     "data": {
      "text/html": [
       "<div>\n",
       "<style scoped>\n",
       "    .dataframe tbody tr th:only-of-type {\n",
       "        vertical-align: middle;\n",
       "    }\n",
       "\n",
       "    .dataframe tbody tr th {\n",
       "        vertical-align: top;\n",
       "    }\n",
       "\n",
       "    .dataframe thead th {\n",
       "        text-align: right;\n",
       "    }\n",
       "</style>\n",
       "<table border=\"1\" class=\"dataframe\">\n",
       "  <thead>\n",
       "    <tr style=\"text-align: right;\">\n",
       "      <th></th>\n",
       "      <th>ID</th>\n",
       "      <th>OBJECTID</th>\n",
       "      <th>sourceCountry</th>\n",
       "      <th>X</th>\n",
       "      <th>Y</th>\n",
       "      <th>areaType</th>\n",
       "      <th>bufferUnits</th>\n",
       "      <th>bufferUnitsAlias</th>\n",
       "      <th>bufferRadii</th>\n",
       "      <th>aggregationMethod</th>\n",
       "      <th>populationToPolygonSizeRating</th>\n",
       "      <th>apportionmentConfidence</th>\n",
       "      <th>HasData</th>\n",
       "      <th>SENIORS_CY</th>\n",
       "      <th>SHAPE</th>\n",
       "    </tr>\n",
       "  </thead>\n",
       "  <tbody>\n",
       "    <tr>\n",
       "      <th>3</th>\n",
       "      <td>3</td>\n",
       "      <td>4</td>\n",
       "      <td>US</td>\n",
       "      <td>-117.806339</td>\n",
       "      <td>34.105884</td>\n",
       "      <td>DriveTimeBuffer</td>\n",
       "      <td>Minutes</td>\n",
       "      <td>Minutes</td>\n",
       "      <td>5</td>\n",
       "      <td>BlockApportionment:US.BlockGroups</td>\n",
       "      <td>2.191</td>\n",
       "      <td>2.576</td>\n",
       "      <td>1</td>\n",
       "      <td>6779</td>\n",
       "      <td>{\"rings\": [[[-117.82069686661299, 34.130855444...</td>\n",
       "    </tr>\n",
       "    <tr>\n",
       "      <th>5</th>\n",
       "      <td>5</td>\n",
       "      <td>6</td>\n",
       "      <td>US</td>\n",
       "      <td>-117.855935</td>\n",
       "      <td>34.107814</td>\n",
       "      <td>DriveTimeBuffer</td>\n",
       "      <td>Minutes</td>\n",
       "      <td>Minutes</td>\n",
       "      <td>5</td>\n",
       "      <td>BlockApportionment:US.BlockGroups</td>\n",
       "      <td>2.191</td>\n",
       "      <td>2.576</td>\n",
       "      <td>1</td>\n",
       "      <td>9480</td>\n",
       "      <td>{\"rings\": [[[-117.86493869223493, 34.132876643...</td>\n",
       "    </tr>\n",
       "    <tr>\n",
       "      <th>6</th>\n",
       "      <td>6</td>\n",
       "      <td>7</td>\n",
       "      <td>US</td>\n",
       "      <td>-117.537415</td>\n",
       "      <td>34.123229</td>\n",
       "      <td>DriveTimeBuffer</td>\n",
       "      <td>Minutes</td>\n",
       "      <td>Minutes</td>\n",
       "      <td>5</td>\n",
       "      <td>BlockApportionment:US.BlockGroups</td>\n",
       "      <td>2.191</td>\n",
       "      <td>2.576</td>\n",
       "      <td>1</td>\n",
       "      <td>5698</td>\n",
       "      <td>{\"rings\": [[[-117.53683053489681, 34.155559000...</td>\n",
       "    </tr>\n",
       "    <tr>\n",
       "      <th>8</th>\n",
       "      <td>8</td>\n",
       "      <td>9</td>\n",
       "      <td>US</td>\n",
       "      <td>-117.737500</td>\n",
       "      <td>34.107259</td>\n",
       "      <td>DriveTimeBuffer</td>\n",
       "      <td>Minutes</td>\n",
       "      <td>Minutes</td>\n",
       "      <td>5</td>\n",
       "      <td>BlockApportionment:US.BlockGroups</td>\n",
       "      <td>2.191</td>\n",
       "      <td>2.576</td>\n",
       "      <td>1</td>\n",
       "      <td>10224</td>\n",
       "      <td>{\"rings\": [[[-117.74321752819222, 34.131753754...</td>\n",
       "    </tr>\n",
       "    <tr>\n",
       "      <th>12</th>\n",
       "      <td>12</td>\n",
       "      <td>13</td>\n",
       "      <td>US</td>\n",
       "      <td>-117.652660</td>\n",
       "      <td>34.105935</td>\n",
       "      <td>DriveTimeBuffer</td>\n",
       "      <td>Minutes</td>\n",
       "      <td>Minutes</td>\n",
       "      <td>5</td>\n",
       "      <td>BlockApportionment:US.BlockGroups</td>\n",
       "      <td>2.191</td>\n",
       "      <td>2.576</td>\n",
       "      <td>1</td>\n",
       "      <td>6153</td>\n",
       "      <td>{\"rings\": [[[-117.65136520990423, 34.140736866...</td>\n",
       "    </tr>\n",
       "  </tbody>\n",
       "</table>\n",
       "</div>"
      ],
      "text/plain": [
       "    ID  OBJECTID sourceCountry           X          Y         areaType  \\\n",
       "3    3         4            US -117.806339  34.105884  DriveTimeBuffer   \n",
       "5    5         6            US -117.855935  34.107814  DriveTimeBuffer   \n",
       "6    6         7            US -117.537415  34.123229  DriveTimeBuffer   \n",
       "8    8         9            US -117.737500  34.107259  DriveTimeBuffer   \n",
       "12  12        13            US -117.652660  34.105935  DriveTimeBuffer   \n",
       "\n",
       "   bufferUnits bufferUnitsAlias  bufferRadii  \\\n",
       "3      Minutes          Minutes            5   \n",
       "5      Minutes          Minutes            5   \n",
       "6      Minutes          Minutes            5   \n",
       "8      Minutes          Minutes            5   \n",
       "12     Minutes          Minutes            5   \n",
       "\n",
       "                    aggregationMethod  populationToPolygonSizeRating  \\\n",
       "3   BlockApportionment:US.BlockGroups                          2.191   \n",
       "5   BlockApportionment:US.BlockGroups                          2.191   \n",
       "6   BlockApportionment:US.BlockGroups                          2.191   \n",
       "8   BlockApportionment:US.BlockGroups                          2.191   \n",
       "12  BlockApportionment:US.BlockGroups                          2.191   \n",
       "\n",
       "    apportionmentConfidence  HasData  SENIORS_CY  \\\n",
       "3                     2.576        1        6779   \n",
       "5                     2.576        1        9480   \n",
       "6                     2.576        1        5698   \n",
       "8                     2.576        1       10224   \n",
       "12                    2.576        1        6153   \n",
       "\n",
       "                                                SHAPE  \n",
       "3   {\"rings\": [[[-117.82069686661299, 34.130855444...  \n",
       "5   {\"rings\": [[[-117.86493869223493, 34.132876643...  \n",
       "6   {\"rings\": [[[-117.53683053489681, 34.155559000...  \n",
       "8   {\"rings\": [[[-117.74321752819222, 34.131753754...  \n",
       "12  {\"rings\": [[[-117.65136520990423, 34.140736866...  "
      ]
     },
     "execution_count": 11,
     "metadata": {},
     "output_type": "execute_result"
    }
   ],
   "source": [
    "significant_senior_population = cvs_dt_5min[cvs_dt_5min['SENIORS_CY'] > 5000]\n",
    "significant_senior_population.head()"
   ]
  },
  {
   "cell_type": "code",
   "execution_count": 12,
   "metadata": {},
   "outputs": [
    {
     "data": {
      "application/vnd.jupyter.widget-view+json": {
       "model_id": "d8db0047f4124eedbcbced3639291f8d",
       "version_major": 2,
       "version_minor": 0
      },
      "text/plain": [
       "MapView(layout=Layout(height='400px', width='100%'))"
      ]
     },
     "metadata": {},
     "output_type": "display_data"
    },
    {
     "data": {
      "text/html": [
       "<div class=\"map-static-img-preview-6db986d2-0a8e-477a-89e9-d49c6550949c\"><img src=\"\"></img></div>"
      ],
      "text/plain": [
       "<IPython.core.display.HTML object>"
      ]
     },
     "metadata": {},
     "output_type": "display_data"
    },
    {
     "data": {
      "text/html": [
       "<div class=\"map-html-embed-preview-6db986d2-0a8e-477a-89e9-d49c6550949c\"></div>"
      ],
      "text/plain": [
       "<IPython.core.display.HTML object>"
      ]
     },
     "metadata": {},
     "output_type": "display_data"
    }
   ],
   "source": [
    "cvs_map2 = gis.map('Ontario, CA, USA', zoomlevel=10)\n",
    "cvs_map2.basemap = 'dark-gray'\n",
    "cvs_map2"
   ]
  },
  {
   "cell_type": "code",
   "execution_count": 13,
   "metadata": {},
   "outputs": [],
   "source": [
    "cvs_map2.add_layer(FeatureSet.from_dataframe(significant_senior_population.copy()), {'renderer':'ClassedColorRenderer','field_name':'SENIORS_CY', 'opacity':0.5})"
   ]
  }
 ],
 "metadata": {
  "kernelspec": {
   "display_name": "Python 3",
   "language": "python",
   "name": "python3"
  },
  "language_info": {
   "codemirror_mode": {
    "name": "ipython",
    "version": 3
   },
   "file_extension": ".py",
   "mimetype": "text/x-python",
   "name": "python",
   "nbconvert_exporter": "python",
   "pygments_lexer": "ipython3",
   "version": "3.8.5"
  }
 },
 "nbformat": 4,
 "nbformat_minor": 2
}
