{
 "cells": [
  {
   "cell_type": "markdown",
   "metadata": {},
   "source": [
    "## Getting Started"
   ]
  },
  {
   "cell_type": "code",
   "execution_count": 2,
   "metadata": {},
   "outputs": [],
   "source": [
    "from arcgis.gis import GIS\n",
    "from arcgis.geoenrichment import enrich\n",
    "from arcgis.geometry import Envelope\n",
    "from arcgis.features.manage_data import generate_tessellation\n",
    "from arcgis.features import FeatureSet\n",
    "from getpass import getpass"
   ]
  },
  {
   "cell_type": "code",
   "execution_count": 3,
   "metadata": {},
   "outputs": [
    {
     "name": "stdout",
     "output_type": "stream",
     "text": [
      "········\n"
     ]
    }
   ],
   "source": [
    "password=getpass()\n",
    "gis = GIS(username=\"YOUR-USERNAME\",password=password)"
   ]
  },
  {
   "cell_type": "markdown",
   "metadata": {},
   "source": [
    "## Build Analysis Areas"
   ]
  },
  {
   "cell_type": "code",
   "execution_count": 4,
   "metadata": {},
   "outputs": [
    {
     "data": {
      "application/vnd.jupyter.widget-view+json": {
       "model_id": "5f4e061ca25f44bcbd7c561cadae38e7",
       "version_major": 2,
       "version_minor": 0
      },
      "text/plain": [
       "MapView(layout=Layout(height='400px', width='100%'))"
      ]
     },
     "metadata": {},
     "output_type": "display_data"
    },
    {
     "data": {
      "text/html": [
       "<div class=\"map-static-img-preview-54229cc1-a1f7-4b43-89b1-92df760f7ce7\"><img src=\"\"></img></div>"
      ],
      "text/plain": [
       "<IPython.core.display.HTML object>"
      ]
     },
     "metadata": {},
     "output_type": "display_data"
    },
    {
     "data": {
      "text/html": [
       "<div class=\"map-html-embed-preview-54229cc1-a1f7-4b43-89b1-92df760f7ce7\"></div>"
      ],
      "text/plain": [
       "<IPython.core.display.HTML object>"
      ]
     },
     "metadata": {},
     "output_type": "display_data"
    }
   ],
   "source": [
    "inland_empire_map = gis.map('Redlands, CA, USA', zoomlevel=12)\n",
    "inland_empire_map.basemap = 'openstreetmap'\n",
    "inland_empire_map"
   ]
  },
  {
   "cell_type": "code",
   "execution_count": 5,
   "metadata": {},
   "outputs": [],
   "source": [
    "hexagons = generate_tessellation(None, bin_size=1, bin_size_unit='SquareMiles', bin_type='HEXAGON', context={\"extent\":inland_empire_map.extent})"
   ]
  },
  {
   "cell_type": "code",
   "execution_count": 6,
   "metadata": {},
   "outputs": [],
   "source": [
    "inland_empire_map.add_layer(hexagons)"
   ]
  },
  {
   "cell_type": "code",
   "execution_count": 7,
   "metadata": {},
   "outputs": [],
   "source": [
    "geometry_areas = [{\"geometry\":f[\"geometry\"].copy()} for f in hexagons.layer.featureSet.features]\n",
    "\n",
    "for area in geometry_areas:\n",
    "    area[\"geometry\"][\"spatialReference\"]={\"wkid\":3857}"
   ]
  },
  {
   "cell_type": "code",
   "execution_count": 8,
   "metadata": {},
   "outputs": [
    {
     "data": {
      "text/plain": [
       "{'geometry': {'rings': [[[-13062306.6791, 4028583.2685000002],\n",
       "    [-13062906.5407, 4027535.6648999974],\n",
       "    [-13064109.4833, 4027533.6699],\n",
       "    [-13064712.784400001, 4028579.277800001],\n",
       "    [-13064113.0335, 4029627.0714000016],\n",
       "    [-13062909.8707, 4029629.0671000034],\n",
       "    [-13062306.6791, 4028583.2685000002]]],\n",
       "  'spatialReference': {'wkid': 3857}}}"
      ]
     },
     "execution_count": 8,
     "metadata": {},
     "output_type": "execute_result"
    }
   ],
   "source": [
    "geometry_areas[0]"
   ]
  },
  {
   "cell_type": "code",
   "execution_count": 9,
   "metadata": {
    "scrolled": true
   },
   "outputs": [],
   "source": [
    "enriched_areas=enrich(study_areas=geometry_areas, analysis_variables=[\"KeyGlobalFacts.TOTPOP\",\"AtRisk.SENIORS_CY\"])"
   ]
  },
  {
   "cell_type": "code",
   "execution_count": 10,
   "metadata": {
    "scrolled": true
   },
   "outputs": [
    {
     "data": {
      "text/html": [
       "<div>\n",
       "<style scoped>\n",
       "    .dataframe tbody tr th:only-of-type {\n",
       "        vertical-align: middle;\n",
       "    }\n",
       "\n",
       "    .dataframe tbody tr th {\n",
       "        vertical-align: top;\n",
       "    }\n",
       "\n",
       "    .dataframe thead th {\n",
       "        text-align: right;\n",
       "    }\n",
       "</style>\n",
       "<table border=\"1\" class=\"dataframe\">\n",
       "  <thead>\n",
       "    <tr style=\"text-align: right;\">\n",
       "      <th></th>\n",
       "      <th>ID</th>\n",
       "      <th>OBJECTID</th>\n",
       "      <th>sourceCountry</th>\n",
       "      <th>aggregationMethod</th>\n",
       "      <th>populationToPolygonSizeRating</th>\n",
       "      <th>apportionmentConfidence</th>\n",
       "      <th>HasData</th>\n",
       "      <th>TOTPOP</th>\n",
       "      <th>SENIORS_CY</th>\n",
       "      <th>SHAPE</th>\n",
       "    </tr>\n",
       "  </thead>\n",
       "  <tbody>\n",
       "    <tr>\n",
       "      <th>0</th>\n",
       "      <td>0</td>\n",
       "      <td>1</td>\n",
       "      <td>US</td>\n",
       "      <td>BlockApportionment:US.BlockGroups</td>\n",
       "      <td>2.191</td>\n",
       "      <td>2.576</td>\n",
       "      <td>1</td>\n",
       "      <td>2901</td>\n",
       "      <td>209</td>\n",
       "      <td>{\"rings\": [[[-117.34069735692039, 33.998370815...</td>\n",
       "    </tr>\n",
       "    <tr>\n",
       "      <th>1</th>\n",
       "      <td>1</td>\n",
       "      <td>2</td>\n",
       "      <td>US</td>\n",
       "      <td>BlockApportionment:US.BlockGroups</td>\n",
       "      <td>2.191</td>\n",
       "      <td>2.576</td>\n",
       "      <td>1</td>\n",
       "      <td>1109</td>\n",
       "      <td>94</td>\n",
       "      <td>{\"rings\": [[[-117.3244995205204, 34.0061859289...</td>\n",
       "    </tr>\n",
       "    <tr>\n",
       "      <th>2</th>\n",
       "      <td>2</td>\n",
       "      <td>3</td>\n",
       "      <td>US</td>\n",
       "      <td>BlockApportionment:US.BlockGroups</td>\n",
       "      <td>2.191</td>\n",
       "      <td>2.576</td>\n",
       "      <td>1</td>\n",
       "      <td>2</td>\n",
       "      <td>0</td>\n",
       "      <td>{\"rings\": [[[-117.30827571292721, 33.998408265...</td>\n",
       "    </tr>\n",
       "    <tr>\n",
       "      <th>3</th>\n",
       "      <td>3</td>\n",
       "      <td>4</td>\n",
       "      <td>US</td>\n",
       "      <td>BlockApportionment:US.BlockGroups</td>\n",
       "      <td>2.191</td>\n",
       "      <td>2.576</td>\n",
       "      <td>1</td>\n",
       "      <td>1640</td>\n",
       "      <td>316</td>\n",
       "      <td>{\"rings\": [[[-117.29207489771376, 34.006219103...</td>\n",
       "    </tr>\n",
       "    <tr>\n",
       "      <th>4</th>\n",
       "      <td>4</td>\n",
       "      <td>5</td>\n",
       "      <td>US</td>\n",
       "      <td>BlockApportionment:US.BlockGroups</td>\n",
       "      <td>2.191</td>\n",
       "      <td>2.576</td>\n",
       "      <td>1</td>\n",
       "      <td>32</td>\n",
       "      <td>6</td>\n",
       "      <td>{\"rings\": [[[-117.27585404467956, 33.998437158...</td>\n",
       "    </tr>\n",
       "    <tr>\n",
       "      <th>...</th>\n",
       "      <td>...</td>\n",
       "      <td>...</td>\n",
       "      <td>...</td>\n",
       "      <td>...</td>\n",
       "      <td>...</td>\n",
       "      <td>...</td>\n",
       "      <td>...</td>\n",
       "      <td>...</td>\n",
       "      <td>...</td>\n",
       "      <td>...</td>\n",
       "    </tr>\n",
       "    <tr>\n",
       "      <th>71</th>\n",
       "      <td>71</td>\n",
       "      <td>72</td>\n",
       "      <td>US</td>\n",
       "      <td>BlockApportionment:US.BlockGroups</td>\n",
       "      <td>2.191</td>\n",
       "      <td>2.576</td>\n",
       "      <td>0</td>\n",
       "      <td>0</td>\n",
       "      <td>0</td>\n",
       "      <td>{\"rings\": [[[-117.06495161840454, 34.115345134...</td>\n",
       "    </tr>\n",
       "    <tr>\n",
       "      <th>72</th>\n",
       "      <td>72</td>\n",
       "      <td>73</td>\n",
       "      <td>US</td>\n",
       "      <td>BlockApportionment:US.BlockGroups</td>\n",
       "      <td>2.191</td>\n",
       "      <td>2.576</td>\n",
       "      <td>0</td>\n",
       "      <td>0</td>\n",
       "      <td>0</td>\n",
       "      <td>{\"rings\": [[[-117.04873077794674, 34.107533359...</td>\n",
       "    </tr>\n",
       "    <tr>\n",
       "      <th>73</th>\n",
       "      <td>73</td>\n",
       "      <td>74</td>\n",
       "      <td>US</td>\n",
       "      <td>BlockApportionment:US.BlockGroups</td>\n",
       "      <td>2.191</td>\n",
       "      <td>2.576</td>\n",
       "      <td>0</td>\n",
       "      <td>0</td>\n",
       "      <td>0</td>\n",
       "      <td>{\"rings\": [[[-117.03248542156655, 34.115309802...</td>\n",
       "    </tr>\n",
       "    <tr>\n",
       "      <th>74</th>\n",
       "      <td>74</td>\n",
       "      <td>75</td>\n",
       "      <td>US</td>\n",
       "      <td>BlockApportionment:US.BlockGroups</td>\n",
       "      <td>2.191</td>\n",
       "      <td>2.576</td>\n",
       "      <td>0</td>\n",
       "      <td>0</td>\n",
       "      <td>0</td>\n",
       "      <td>{\"rings\": [[[-117.01626756800707, 34.107493746...</td>\n",
       "    </tr>\n",
       "    <tr>\n",
       "      <th>75</th>\n",
       "      <td>75</td>\n",
       "      <td>76</td>\n",
       "      <td>US</td>\n",
       "      <td>BlockApportionment:US.BlockGroups</td>\n",
       "      <td>2.191</td>\n",
       "      <td>2.576</td>\n",
       "      <td>0</td>\n",
       "      <td>0</td>\n",
       "      <td>0</td>\n",
       "      <td>{\"rings\": [[[-117.00001925347466, 34.115265901...</td>\n",
       "    </tr>\n",
       "  </tbody>\n",
       "</table>\n",
       "<p>176 rows × 10 columns</p>\n",
       "</div>"
      ],
      "text/plain": [
       "    ID  OBJECTID sourceCountry                  aggregationMethod  \\\n",
       "0    0         1            US  BlockApportionment:US.BlockGroups   \n",
       "1    1         2            US  BlockApportionment:US.BlockGroups   \n",
       "2    2         3            US  BlockApportionment:US.BlockGroups   \n",
       "3    3         4            US  BlockApportionment:US.BlockGroups   \n",
       "4    4         5            US  BlockApportionment:US.BlockGroups   \n",
       "..  ..       ...           ...                                ...   \n",
       "71  71        72            US  BlockApportionment:US.BlockGroups   \n",
       "72  72        73            US  BlockApportionment:US.BlockGroups   \n",
       "73  73        74            US  BlockApportionment:US.BlockGroups   \n",
       "74  74        75            US  BlockApportionment:US.BlockGroups   \n",
       "75  75        76            US  BlockApportionment:US.BlockGroups   \n",
       "\n",
       "    populationToPolygonSizeRating  apportionmentConfidence  HasData  TOTPOP  \\\n",
       "0                           2.191                    2.576        1    2901   \n",
       "1                           2.191                    2.576        1    1109   \n",
       "2                           2.191                    2.576        1       2   \n",
       "3                           2.191                    2.576        1    1640   \n",
       "4                           2.191                    2.576        1      32   \n",
       "..                            ...                      ...      ...     ...   \n",
       "71                          2.191                    2.576        0       0   \n",
       "72                          2.191                    2.576        0       0   \n",
       "73                          2.191                    2.576        0       0   \n",
       "74                          2.191                    2.576        0       0   \n",
       "75                          2.191                    2.576        0       0   \n",
       "\n",
       "    SENIORS_CY                                              SHAPE  \n",
       "0          209  {\"rings\": [[[-117.34069735692039, 33.998370815...  \n",
       "1           94  {\"rings\": [[[-117.3244995205204, 34.0061859289...  \n",
       "2            0  {\"rings\": [[[-117.30827571292721, 33.998408265...  \n",
       "3          316  {\"rings\": [[[-117.29207489771376, 34.006219103...  \n",
       "4            6  {\"rings\": [[[-117.27585404467956, 33.998437158...  \n",
       "..         ...                                                ...  \n",
       "71           0  {\"rings\": [[[-117.06495161840454, 34.115345134...  \n",
       "72           0  {\"rings\": [[[-117.04873077794674, 34.107533359...  \n",
       "73           0  {\"rings\": [[[-117.03248542156655, 34.115309802...  \n",
       "74           0  {\"rings\": [[[-117.01626756800707, 34.107493746...  \n",
       "75           0  {\"rings\": [[[-117.00001925347466, 34.115265901...  \n",
       "\n",
       "[176 rows x 10 columns]"
      ]
     },
     "execution_count": 10,
     "metadata": {},
     "output_type": "execute_result"
    }
   ],
   "source": [
    "enriched_areas"
   ]
  },
  {
   "cell_type": "code",
   "execution_count": 11,
   "metadata": {},
   "outputs": [
    {
     "data": {
      "application/vnd.jupyter.widget-view+json": {
       "model_id": "dd5abb38f27d49f6bcac7335c47b5d3f",
       "version_major": 2,
       "version_minor": 0
      },
      "text/plain": [
       "MapView(layout=Layout(height='400px', width='100%'))"
      ]
     },
     "metadata": {},
     "output_type": "display_data"
    },
    {
     "data": {
      "text/html": [
       "<div class=\"map-static-img-preview-2155c26d-5bd3-41ce-b6b0-ff7faa986128\"><img src=\"\"></img></div>"
      ],
      "text/plain": [
       "<IPython.core.display.HTML object>"
      ]
     },
     "metadata": {},
     "output_type": "display_data"
    },
    {
     "data": {
      "text/html": [
       "<div class=\"map-html-embed-preview-2155c26d-5bd3-41ce-b6b0-ff7faa986128\"></div>"
      ],
      "text/plain": [
       "<IPython.core.display.HTML object>"
      ]
     },
     "metadata": {},
     "output_type": "display_data"
    }
   ],
   "source": [
    "inland_empire_map2 = gis.map('Redlands, CA, USA', zoomlevel=12)\n",
    "inland_empire_map2.basemap = 'openstreetmap'\n",
    "inland_empire_map2"
   ]
  },
  {
   "cell_type": "code",
   "execution_count": 12,
   "metadata": {},
   "outputs": [],
   "source": [
    "enriched_areas[\"SENIORS_PERCENT\"] = enriched_areas[\"SENIORS_CY\"]  / enriched_areas[\"TOTPOP\"] * 100"
   ]
  },
  {
   "cell_type": "code",
   "execution_count": 13,
   "metadata": {},
   "outputs": [
    {
     "data": {
      "text/html": [
       "<div>\n",
       "<style scoped>\n",
       "    .dataframe tbody tr th:only-of-type {\n",
       "        vertical-align: middle;\n",
       "    }\n",
       "\n",
       "    .dataframe tbody tr th {\n",
       "        vertical-align: top;\n",
       "    }\n",
       "\n",
       "    .dataframe thead th {\n",
       "        text-align: right;\n",
       "    }\n",
       "</style>\n",
       "<table border=\"1\" class=\"dataframe\">\n",
       "  <thead>\n",
       "    <tr style=\"text-align: right;\">\n",
       "      <th></th>\n",
       "      <th>ID</th>\n",
       "      <th>OBJECTID</th>\n",
       "      <th>sourceCountry</th>\n",
       "      <th>aggregationMethod</th>\n",
       "      <th>populationToPolygonSizeRating</th>\n",
       "      <th>apportionmentConfidence</th>\n",
       "      <th>HasData</th>\n",
       "      <th>TOTPOP</th>\n",
       "      <th>SENIORS_CY</th>\n",
       "      <th>SHAPE</th>\n",
       "      <th>SENIORS_PERCENT</th>\n",
       "    </tr>\n",
       "  </thead>\n",
       "  <tbody>\n",
       "    <tr>\n",
       "      <th>33</th>\n",
       "      <td>33</td>\n",
       "      <td>34</td>\n",
       "      <td>US</td>\n",
       "      <td>BlockApportionment:US.BlockGroups</td>\n",
       "      <td>2.191</td>\n",
       "      <td>2.576</td>\n",
       "      <td>1</td>\n",
       "      <td>552</td>\n",
       "      <td>155</td>\n",
       "      <td>{\"rings\": [[[-117.16237255271459, 34.021856845...</td>\n",
       "      <td>28.079710</td>\n",
       "    </tr>\n",
       "    <tr>\n",
       "      <th>34</th>\n",
       "      <td>34</td>\n",
       "      <td>35</td>\n",
       "      <td>US</td>\n",
       "      <td>BlockApportionment:US.BlockGroups</td>\n",
       "      <td>2.191</td>\n",
       "      <td>2.576</td>\n",
       "      <td>1</td>\n",
       "      <td>444</td>\n",
       "      <td>120</td>\n",
       "      <td>{\"rings\": [[[-117.14616058491686, 34.014057803...</td>\n",
       "      <td>27.027027</td>\n",
       "    </tr>\n",
       "    <tr>\n",
       "      <th>35</th>\n",
       "      <td>35</td>\n",
       "      <td>36</td>\n",
       "      <td>US</td>\n",
       "      <td>BlockApportionment:US.BlockGroups</td>\n",
       "      <td>2.191</td>\n",
       "      <td>2.576</td>\n",
       "      <td>1</td>\n",
       "      <td>1467</td>\n",
       "      <td>386</td>\n",
       "      <td>{\"rings\": [[[-117.12994195072142, 34.021847229...</td>\n",
       "      <td>26.312202</td>\n",
       "    </tr>\n",
       "    <tr>\n",
       "      <th>36</th>\n",
       "      <td>36</td>\n",
       "      <td>37</td>\n",
       "      <td>US</td>\n",
       "      <td>BlockApportionment:US.BlockGroups</td>\n",
       "      <td>2.191</td>\n",
       "      <td>2.576</td>\n",
       "      <td>1</td>\n",
       "      <td>511</td>\n",
       "      <td>132</td>\n",
       "      <td>{\"rings\": [[[-117.11373295455066, 34.014043908...</td>\n",
       "      <td>25.831703</td>\n",
       "    </tr>\n",
       "    <tr>\n",
       "      <th>53</th>\n",
       "      <td>53</td>\n",
       "      <td>54</td>\n",
       "      <td>US</td>\n",
       "      <td>BlockApportionment:US.BlockGroups</td>\n",
       "      <td>2.191</td>\n",
       "      <td>2.576</td>\n",
       "      <td>1</td>\n",
       "      <td>2197</td>\n",
       "      <td>779</td>\n",
       "      <td>{\"rings\": [[[-117.19480539330945, 34.037448478...</td>\n",
       "      <td>35.457442</td>\n",
       "    </tr>\n",
       "  </tbody>\n",
       "</table>\n",
       "</div>"
      ],
      "text/plain": [
       "    ID  OBJECTID sourceCountry                  aggregationMethod  \\\n",
       "33  33        34            US  BlockApportionment:US.BlockGroups   \n",
       "34  34        35            US  BlockApportionment:US.BlockGroups   \n",
       "35  35        36            US  BlockApportionment:US.BlockGroups   \n",
       "36  36        37            US  BlockApportionment:US.BlockGroups   \n",
       "53  53        54            US  BlockApportionment:US.BlockGroups   \n",
       "\n",
       "    populationToPolygonSizeRating  apportionmentConfidence  HasData  TOTPOP  \\\n",
       "33                          2.191                    2.576        1     552   \n",
       "34                          2.191                    2.576        1     444   \n",
       "35                          2.191                    2.576        1    1467   \n",
       "36                          2.191                    2.576        1     511   \n",
       "53                          2.191                    2.576        1    2197   \n",
       "\n",
       "    SENIORS_CY                                              SHAPE  \\\n",
       "33         155  {\"rings\": [[[-117.16237255271459, 34.021856845...   \n",
       "34         120  {\"rings\": [[[-117.14616058491686, 34.014057803...   \n",
       "35         386  {\"rings\": [[[-117.12994195072142, 34.021847229...   \n",
       "36         132  {\"rings\": [[[-117.11373295455066, 34.014043908...   \n",
       "53         779  {\"rings\": [[[-117.19480539330945, 34.037448478...   \n",
       "\n",
       "    SENIORS_PERCENT  \n",
       "33        28.079710  \n",
       "34        27.027027  \n",
       "35        26.312202  \n",
       "36        25.831703  \n",
       "53        35.457442  "
      ]
     },
     "execution_count": 13,
     "metadata": {},
     "output_type": "execute_result"
    }
   ],
   "source": [
    "senior_populated_area = enriched_areas[enriched_areas[\"SENIORS_PERCENT\"] > 25]\n",
    "senior_populated_area.head()"
   ]
  },
  {
   "cell_type": "code",
   "execution_count": 14,
   "metadata": {},
   "outputs": [],
   "source": [
    "inland_empire_map2.add_layer(FeatureSet.from_dataframe(senior_populated_area.copy()))"
   ]
  },
  {
   "cell_type": "code",
   "execution_count": 15,
   "metadata": {},
   "outputs": [],
   "source": [
    "inland_empire_map2.add_layer(FeatureSet.from_dataframe(enriched_areas), {'renderer':'ClassedSizeRenderer','field_name':'SENIORS_PERCENT', 'opacity':0.5})"
   ]
  }
 ],
 "metadata": {
  "kernelspec": {
   "display_name": "Python 3",
   "language": "python",
   "name": "python3"
  },
  "language_info": {
   "codemirror_mode": {
    "name": "ipython",
    "version": 3
   },
   "file_extension": ".py",
   "mimetype": "text/x-python",
   "name": "python",
   "nbconvert_exporter": "python",
   "pygments_lexer": "ipython3",
   "version": "3.8.5"
  }
 },
 "nbformat": 4,
 "nbformat_minor": 2
}
