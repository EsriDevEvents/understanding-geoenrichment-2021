{
 "cells": [
  {
   "cell_type": "markdown",
   "metadata": {},
   "source": [
    "## Getting Started"
   ]
  },
  {
   "cell_type": "code",
   "execution_count": 1,
   "metadata": {},
   "outputs": [],
   "source": [
    "from arcgis.gis import GIS\n",
    "from arcgis.geoenrichment import enrich\n",
    "from arcgis.geoenrichment import create_report\n",
    "from arcgis.geometry import Envelope\n",
    "from arcgis.features.manage_data import generate_tessellation\n",
    "from arcgis.features import FeatureSet\n",
    "from getpass import getpass"
   ]
  },
  {
   "cell_type": "code",
   "execution_count": 2,
   "metadata": {},
   "outputs": [
    {
     "name": "stdout",
     "output_type": "stream",
     "text": [
      "········\n"
     ]
    }
   ],
   "source": [
    "password=getpass()\n",
    "gis = GIS(username=\"YOUR-USERNAME\", password=password)"
   ]
  },
  {
   "cell_type": "markdown",
   "metadata": {},
   "source": [
    "## Build Analysis Areas"
   ]
  },
  {
   "cell_type": "code",
   "execution_count": 3,
   "metadata": {},
   "outputs": [
    {
     "data": {
      "application/vnd.jupyter.widget-view+json": {
       "model_id": "82d9e9d6ecf44a6190a432568cbd0de9",
       "version_major": 2,
       "version_minor": 0
      },
      "text/plain": [
       "MapView(layout=Layout(height='400px', width='100%'))"
      ]
     },
     "metadata": {},
     "output_type": "display_data"
    },
    {
     "data": {
      "text/html": [
       "<div class=\"map-static-img-preview-8c501ff6-a24e-4cf5-8a84-1435159150d6\"><img src=\"\"></img></div>"
      ],
      "text/plain": [
       "<IPython.core.display.HTML object>"
      ]
     },
     "metadata": {},
     "output_type": "display_data"
    },
    {
     "data": {
      "text/html": [
       "<div class=\"map-html-embed-preview-8c501ff6-a24e-4cf5-8a84-1435159150d6\"></div>"
      ],
      "text/plain": [
       "<IPython.core.display.HTML object>"
      ]
     },
     "metadata": {},
     "output_type": "display_data"
    }
   ],
   "source": [
    "inland_empire_map = gis.map('Redlands, CA, USA', zoomlevel=12)\n",
    "inland_empire_map.basemap = 'openstreetmap'\n",
    "inland_empire_map"
   ]
  },
  {
   "cell_type": "code",
   "execution_count": 4,
   "metadata": {},
   "outputs": [
    {
     "data": {
      "text/plain": [
       "176"
      ]
     },
     "execution_count": 4,
     "metadata": {},
     "output_type": "execute_result"
    }
   ],
   "source": [
    "hexagons = generate_tessellation(None, bin_size=1, bin_size_unit='SquareMiles', bin_type='HEXAGON', context={\"extent\":inland_empire_map.extent})\n",
    "inland_empire_map.add_layer(hexagons)\n",
    "\n",
    "len(hexagons.layer.featureSet.features)"
   ]
  },
  {
   "cell_type": "code",
   "execution_count": 5,
   "metadata": {
    "scrolled": true
   },
   "outputs": [
    {
     "data": {
      "text/plain": [
       "{'geometry': {'rings': [[[-13062306.6791, 4028583.2685000002],\n",
       "    [-13062906.5407, 4027535.6648999974],\n",
       "    [-13064109.4833, 4027533.6699],\n",
       "    [-13064712.784400001, 4028579.277800001],\n",
       "    [-13064113.0335, 4029627.0714000016],\n",
       "    [-13062909.8707, 4029629.0671000034],\n",
       "    [-13062306.6791, 4028583.2685000002]]],\n",
       "  'spatialReference': {'wkid': 3857}}}"
      ]
     },
     "execution_count": 5,
     "metadata": {},
     "output_type": "execute_result"
    }
   ],
   "source": [
    "geometry_areas = [{\"geometry\":f[\"geometry\"].copy()} for f in hexagons.layer.featureSet.features]\n",
    "\n",
    "for area in geometry_areas:\n",
    "    area[\"geometry\"][\"spatialReference\"]={\"wkid\":3857}\n",
    "    \n",
    "geometry_areas[0]"
   ]
  },
  {
   "cell_type": "code",
   "execution_count": 6,
   "metadata": {
    "scrolled": true
   },
   "outputs": [
    {
     "data": {
      "text/html": [
       "<div>\n",
       "<style scoped>\n",
       "    .dataframe tbody tr th:only-of-type {\n",
       "        vertical-align: middle;\n",
       "    }\n",
       "\n",
       "    .dataframe tbody tr th {\n",
       "        vertical-align: top;\n",
       "    }\n",
       "\n",
       "    .dataframe thead th {\n",
       "        text-align: right;\n",
       "    }\n",
       "</style>\n",
       "<table border=\"1\" class=\"dataframe\">\n",
       "  <thead>\n",
       "    <tr style=\"text-align: right;\">\n",
       "      <th></th>\n",
       "      <th>ID</th>\n",
       "      <th>OBJECTID</th>\n",
       "      <th>sourceCountry</th>\n",
       "      <th>aggregationMethod</th>\n",
       "      <th>populationToPolygonSizeRating</th>\n",
       "      <th>apportionmentConfidence</th>\n",
       "      <th>HasData</th>\n",
       "      <th>TOTPOP</th>\n",
       "      <th>SENIORS_CY</th>\n",
       "      <th>SHAPE</th>\n",
       "    </tr>\n",
       "  </thead>\n",
       "  <tbody>\n",
       "    <tr>\n",
       "      <th>0</th>\n",
       "      <td>0</td>\n",
       "      <td>1</td>\n",
       "      <td>US</td>\n",
       "      <td>BlockApportionment:US.BlockGroups</td>\n",
       "      <td>2.191</td>\n",
       "      <td>2.576</td>\n",
       "      <td>1</td>\n",
       "      <td>2901</td>\n",
       "      <td>209</td>\n",
       "      <td>{\"rings\": [[[-117.34069735692039, 33.998370815...</td>\n",
       "    </tr>\n",
       "    <tr>\n",
       "      <th>1</th>\n",
       "      <td>1</td>\n",
       "      <td>2</td>\n",
       "      <td>US</td>\n",
       "      <td>BlockApportionment:US.BlockGroups</td>\n",
       "      <td>2.191</td>\n",
       "      <td>2.576</td>\n",
       "      <td>1</td>\n",
       "      <td>1109</td>\n",
       "      <td>94</td>\n",
       "      <td>{\"rings\": [[[-117.3244995205204, 34.0061859289...</td>\n",
       "    </tr>\n",
       "    <tr>\n",
       "      <th>2</th>\n",
       "      <td>2</td>\n",
       "      <td>3</td>\n",
       "      <td>US</td>\n",
       "      <td>BlockApportionment:US.BlockGroups</td>\n",
       "      <td>2.191</td>\n",
       "      <td>2.576</td>\n",
       "      <td>1</td>\n",
       "      <td>2</td>\n",
       "      <td>0</td>\n",
       "      <td>{\"rings\": [[[-117.30827571292721, 33.998408265...</td>\n",
       "    </tr>\n",
       "    <tr>\n",
       "      <th>3</th>\n",
       "      <td>3</td>\n",
       "      <td>4</td>\n",
       "      <td>US</td>\n",
       "      <td>BlockApportionment:US.BlockGroups</td>\n",
       "      <td>2.191</td>\n",
       "      <td>2.576</td>\n",
       "      <td>1</td>\n",
       "      <td>1640</td>\n",
       "      <td>316</td>\n",
       "      <td>{\"rings\": [[[-117.29207489771376, 34.006219103...</td>\n",
       "    </tr>\n",
       "    <tr>\n",
       "      <th>4</th>\n",
       "      <td>4</td>\n",
       "      <td>5</td>\n",
       "      <td>US</td>\n",
       "      <td>BlockApportionment:US.BlockGroups</td>\n",
       "      <td>2.191</td>\n",
       "      <td>2.576</td>\n",
       "      <td>1</td>\n",
       "      <td>32</td>\n",
       "      <td>6</td>\n",
       "      <td>{\"rings\": [[[-117.27585404467956, 33.998437158...</td>\n",
       "    </tr>\n",
       "  </tbody>\n",
       "</table>\n",
       "</div>"
      ],
      "text/plain": [
       "  ID  OBJECTID sourceCountry                  aggregationMethod  \\\n",
       "0  0         1            US  BlockApportionment:US.BlockGroups   \n",
       "1  1         2            US  BlockApportionment:US.BlockGroups   \n",
       "2  2         3            US  BlockApportionment:US.BlockGroups   \n",
       "3  3         4            US  BlockApportionment:US.BlockGroups   \n",
       "4  4         5            US  BlockApportionment:US.BlockGroups   \n",
       "\n",
       "   populationToPolygonSizeRating  apportionmentConfidence  HasData  TOTPOP  \\\n",
       "0                          2.191                    2.576        1    2901   \n",
       "1                          2.191                    2.576        1    1109   \n",
       "2                          2.191                    2.576        1       2   \n",
       "3                          2.191                    2.576        1    1640   \n",
       "4                          2.191                    2.576        1      32   \n",
       "\n",
       "   SENIORS_CY                                              SHAPE  \n",
       "0         209  {\"rings\": [[[-117.34069735692039, 33.998370815...  \n",
       "1          94  {\"rings\": [[[-117.3244995205204, 34.0061859289...  \n",
       "2           0  {\"rings\": [[[-117.30827571292721, 33.998408265...  \n",
       "3         316  {\"rings\": [[[-117.29207489771376, 34.006219103...  \n",
       "4           6  {\"rings\": [[[-117.27585404467956, 33.998437158...  "
      ]
     },
     "execution_count": 6,
     "metadata": {},
     "output_type": "execute_result"
    }
   ],
   "source": [
    "enriched_areas=enrich(study_areas=geometry_areas, analysis_variables=[\"KeyGlobalFacts.TOTPOP\",\"AtRisk.SENIORS_CY\"])\n",
    "enriched_areas.head()"
   ]
  },
  {
   "cell_type": "code",
   "execution_count": 7,
   "metadata": {},
   "outputs": [
    {
     "data": {
      "text/plain": [
       "9"
      ]
     },
     "execution_count": 7,
     "metadata": {},
     "output_type": "execute_result"
    }
   ],
   "source": [
    "enriched_areas[\"SENIORS_PERCENT\"] = enriched_areas[\"SENIORS_CY\"]  / enriched_areas[\"TOTPOP\"] * 100\n",
    "\n",
    "senior_populated_area = enriched_areas[enriched_areas[\"SENIORS_PERCENT\"] > 25]\n",
    "senior_populated_area.shape[0]"
   ]
  },
  {
   "cell_type": "code",
   "execution_count": 8,
   "metadata": {},
   "outputs": [
    {
     "data": {
      "application/vnd.jupyter.widget-view+json": {
       "model_id": "738a0d38bf854783b2afa4425199936a",
       "version_major": 2,
       "version_minor": 0
      },
      "text/plain": [
       "MapView(layout=Layout(height='400px', width='100%'))"
      ]
     },
     "metadata": {},
     "output_type": "display_data"
    },
    {
     "data": {
      "text/html": [
       "<div class=\"map-static-img-preview-16bd38aa-5e53-445e-9294-6b6dfb71d522\"><img src=\"\"></img></div>"
      ],
      "text/plain": [
       "<IPython.core.display.HTML object>"
      ]
     },
     "metadata": {},
     "output_type": "display_data"
    },
    {
     "data": {
      "text/html": [
       "<div class=\"map-html-embed-preview-16bd38aa-5e53-445e-9294-6b6dfb71d522\"></div>"
      ],
      "text/plain": [
       "<IPython.core.display.HTML object>"
      ]
     },
     "metadata": {},
     "output_type": "display_data"
    }
   ],
   "source": [
    "inland_empire_map2 = gis.map('Redlands, CA, USA', zoomlevel=12)\n",
    "inland_empire_map2.basemap = 'openstreetmap'\n",
    "\n",
    "inland_empire_map2.add_layer(FeatureSet.from_dataframe(senior_populated_area.copy()))\n",
    "inland_empire_map2"
   ]
  },
  {
   "cell_type": "code",
   "execution_count": 9,
   "metadata": {},
   "outputs": [],
   "source": [
    "inland_empire_map2.add_layer(FeatureSet.from_dataframe(enriched_areas), {'renderer':'ClassedSizeRenderer','field_name':'SENIORS_PERCENT', 'opacity':0.5})"
   ]
  },
  {
   "cell_type": "code",
   "execution_count": 10,
   "metadata": {},
   "outputs": [
    {
     "data": {
      "text/html": [
       "<div>\n",
       "<style scoped>\n",
       "    .dataframe tbody tr th:only-of-type {\n",
       "        vertical-align: middle;\n",
       "    }\n",
       "\n",
       "    .dataframe tbody tr th {\n",
       "        vertical-align: top;\n",
       "    }\n",
       "\n",
       "    .dataframe thead th {\n",
       "        text-align: right;\n",
       "    }\n",
       "</style>\n",
       "<table border=\"1\" class=\"dataframe\">\n",
       "  <thead>\n",
       "    <tr style=\"text-align: right;\">\n",
       "      <th></th>\n",
       "      <th>ID</th>\n",
       "      <th>OBJECTID</th>\n",
       "      <th>sourceCountry</th>\n",
       "      <th>aggregationMethod</th>\n",
       "      <th>populationToPolygonSizeRating</th>\n",
       "      <th>apportionmentConfidence</th>\n",
       "      <th>HasData</th>\n",
       "      <th>TOTPOP</th>\n",
       "      <th>SENIORS_CY</th>\n",
       "      <th>SHAPE</th>\n",
       "      <th>SENIORS_PERCENT</th>\n",
       "    </tr>\n",
       "  </thead>\n",
       "  <tbody>\n",
       "    <tr>\n",
       "      <th>53</th>\n",
       "      <td>53</td>\n",
       "      <td>54</td>\n",
       "      <td>US</td>\n",
       "      <td>BlockApportionment:US.BlockGroups</td>\n",
       "      <td>2.191</td>\n",
       "      <td>2.576</td>\n",
       "      <td>1</td>\n",
       "      <td>2197</td>\n",
       "      <td>779</td>\n",
       "      <td>{\"rings\": [[[-117.19480539330945, 34.037448478...</td>\n",
       "      <td>35.457442</td>\n",
       "    </tr>\n",
       "  </tbody>\n",
       "</table>\n",
       "</div>"
      ],
      "text/plain": [
       "    ID  OBJECTID sourceCountry                  aggregationMethod  \\\n",
       "53  53        54            US  BlockApportionment:US.BlockGroups   \n",
       "\n",
       "    populationToPolygonSizeRating  apportionmentConfidence  HasData  TOTPOP  \\\n",
       "53                          2.191                    2.576        1    2197   \n",
       "\n",
       "    SENIORS_CY                                              SHAPE  \\\n",
       "53         779  {\"rings\": [[[-117.19480539330945, 34.037448478...   \n",
       "\n",
       "    SENIORS_PERCENT  \n",
       "53        35.457442  "
      ]
     },
     "execution_count": 10,
     "metadata": {},
     "output_type": "execute_result"
    }
   ],
   "source": [
    "most_senior_area = enriched_areas[enriched_areas.SENIORS_PERCENT == enriched_areas.SENIORS_PERCENT.max()]\n",
    "most_senior_area"
   ]
  },
  {
   "cell_type": "code",
   "execution_count": 11,
   "metadata": {},
   "outputs": [],
   "source": [
    "fill_symbol = {\n",
    "  \"type\": \"esriSFS\",\n",
    "  \"style\": \"esriSFSSolid\",\n",
    "  \"color\": [255,0,0,255],\n",
    "    \"outline\": {\n",
    "     \"type\": \"esriSLS\",\n",
    "     \"style\": \"esriSLSSolid\",\n",
    "     \"color\": [0,0,0,255],\n",
    "     \"width\": 1\n",
    "    }\n",
    "}\n",
    "\n",
    "inland_empire_map2.draw(most_senior_area.iloc[0].SHAPE, symbol = fill_symbol)"
   ]
  },
  {
   "cell_type": "markdown",
   "metadata": {},
   "source": [
    "## Building Report"
   ]
  },
  {
   "cell_type": "code",
   "execution_count": 12,
   "metadata": {},
   "outputs": [],
   "source": [
    "most_senior_study_area = {\"geometry\":most_senior_area.iloc[0].SHAPE}\n",
    "\n",
    "# coronavirus impact planning report\n",
    "report = create_report(study_areas=[most_senior_study_area], report={\"itemid\":\"ac36af7d86b74071a1cff5dc11f52ae8\"}, out_name=\"COVID Impact Planning Profile.pdf\", out_folder=\"output\")"
   ]
  },
  {
   "cell_type": "code",
   "execution_count": 13,
   "metadata": {},
   "outputs": [],
   "source": [
    "# health care & insurace \n",
    "report = create_report(study_areas=[most_senior_study_area], report={\"itemid\":\"d29fcd15f66f46edad86499675b0ec03\"}, export_format='html', out_name=\"Health Care and Insurance.html\", out_folder=\"output\")"
   ]
  }
 ],
 "metadata": {
  "kernelspec": {
   "display_name": "Python 3",
   "language": "python",
   "name": "python3"
  },
  "language_info": {
   "codemirror_mode": {
    "name": "ipython",
    "version": 3
   },
   "file_extension": ".py",
   "mimetype": "text/x-python",
   "name": "python",
   "nbconvert_exporter": "python",
   "pygments_lexer": "ipython3",
   "version": "3.8.5"
  }
 },
 "nbformat": 4,
 "nbformat_minor": 2
}
