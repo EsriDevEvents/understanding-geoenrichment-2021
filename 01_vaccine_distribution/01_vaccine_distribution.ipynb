{
 "cells": [
  {
   "cell_type": "markdown",
   "metadata": {},
   "source": [
    "## Getting Started"
   ]
  },
  {
   "cell_type": "code",
   "execution_count": null,
   "metadata": {},
   "outputs": [],
   "source": [
    "import pandas as pd\n",
    "from arcgis.gis import GIS\n",
    "from arcgis.geoenrichment import enrich\n",
    "from arcgis.features import FeatureSet"
   ]
  },
  {
   "cell_type": "code",
   "execution_count": null,
   "metadata": {},
   "outputs": [],
   "source": [
    "gis = GIS(api_key=\"YOUR-API-KEY\")"
   ]
  },
  {
   "cell_type": "markdown",
   "metadata": {},
   "source": [
    "## StudyAreas"
   ]
  },
  {
   "cell_type": "code",
   "execution_count": null,
   "metadata": {
    "scrolled": true
   },
   "outputs": [],
   "source": [
    "df = pd.read_csv(\"data/cvs_los_angeles.csv\")\n",
    "df"
   ]
  },
  {
   "cell_type": "markdown",
   "metadata": {},
   "source": [
    "## Enriching Areas"
   ]
  },
  {
   "cell_type": "code",
   "execution_count": null,
   "metadata": {},
   "outputs": [],
   "source": [
    "cvs_areas = [{\"address\":x, \"areaType\": \"DriveTimeBuffer\",\"bufferRadii\":[5], \"bufferUnits\": \"Minutes\"} for x in df.to_dict('records')]\n",
    "cvs_areas[0]"
   ]
  },
  {
   "cell_type": "code",
   "execution_count": null,
   "metadata": {},
   "outputs": [],
   "source": [
    "cvs_dt_5min = enrich(cvs_areas, analysis_variables=)\n",
    "cvs_dt_5min.head(n=2)"
   ]
  },
  {
   "cell_type": "code",
   "execution_count": null,
   "metadata": {},
   "outputs": [],
   "source": [
    "cvs_map = gis.map('Ontario, CA, USA', zoomlevel=10)\n",
    "cvs_map.basemap = 'dark-gray'\n",
    "\n",
    "cvs_map.add_layer(FeatureSet.from_dataframe(cvs_dt_5min), {'renderer':'ClassedColorRenderer','field_name':'SENIORS_CY', 'opacity':0.5})\n",
    "cvs_map"
   ]
  },
  {
   "cell_type": "markdown",
   "metadata": {},
   "source": [
    "## Data Analysis"
   ]
  },
  {
   "cell_type": "code",
   "execution_count": null,
   "metadata": {
    "scrolled": true
   },
   "outputs": [],
   "source": [
    "cvs_dt_5min = cvs_dt_5min.sort_values(by=['SENIORS_CY'], ascending=False)\n",
    "\n",
    "\n",
    "best_csv = cvs_dt_5min[:10]\n",
    "best_csv"
   ]
  },
  {
   "cell_type": "code",
   "execution_count": null,
   "metadata": {},
   "outputs": [],
   "source": [
    "best_cvs_map = gis.map('Ontario, CA, USA', zoomlevel=10)\n",
    "best_cvs_map.basemap = 'dark-gray'\n",
    "\n",
    "best_cvs_map.add_layer(FeatureSet.from_dataframe(best_csv.copy()), {'renderer':'ClassedColorRenderer','field_name':'SENIORS_CY', 'opacity':0.5})\n",
    "best_cvs_map"
   ]
  }
 ],
 "metadata": {
  "kernelspec": {
   "display_name": "Python 3",
   "language": "python",
   "name": "python3"
  },
  "language_info": {
   "codemirror_mode": {
    "name": "ipython",
    "version": 3
   },
   "file_extension": ".py",
   "mimetype": "text/x-python",
   "name": "python",
   "nbconvert_exporter": "python",
   "pygments_lexer": "ipython3",
   "version": "3.8.5"
  }
 },
 "nbformat": 4,
 "nbformat_minor": 2
}
